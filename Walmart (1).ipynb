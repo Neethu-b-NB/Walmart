{
 "cells": [
  {
   "cell_type": "code",
   "execution_count": 1,
   "id": "7c953603-1f3a-4d9a-9c3d-b6aa97f66ee2",
   "metadata": {},
   "outputs": [],
   "source": [
    "import numpy as np \n",
    "import pandas as pd\n",
    "import matplotlib.pyplot as plt\n",
    "import seaborn as sns\n",
    "import scipy.stats as stats\n",
    "from scipy.stats import norm\n",
    "import math"
   ]
  },
  {
   "cell_type": "code",
   "execution_count": 2,
   "id": "a7abb1e5-e026-4816-8c3e-75eac77535bf",
   "metadata": {},
   "outputs": [],
   "source": [
    "df=pd.read_csv(\"https://d2beiqkhq929f0.cloudfront.net/public_assets/assets/000/001/293/original/walmart_data.csv?1641285094\")"
   ]
  },
  {
   "cell_type": "code",
   "execution_count": 3,
   "id": "746c5cdf-8d12-492d-8ff8-08dee6491965",
   "metadata": {},
   "outputs": [
    {
     "data": {
      "text/html": [
       "<div>\n",
       "<style scoped>\n",
       "    .dataframe tbody tr th:only-of-type {\n",
       "        vertical-align: middle;\n",
       "    }\n",
       "\n",
       "    .dataframe tbody tr th {\n",
       "        vertical-align: top;\n",
       "    }\n",
       "\n",
       "    .dataframe thead th {\n",
       "        text-align: right;\n",
       "    }\n",
       "</style>\n",
       "<table border=\"1\" class=\"dataframe\">\n",
       "  <thead>\n",
       "    <tr style=\"text-align: right;\">\n",
       "      <th></th>\n",
       "      <th>User_ID</th>\n",
       "      <th>Product_ID</th>\n",
       "      <th>Gender</th>\n",
       "      <th>Age</th>\n",
       "      <th>Occupation</th>\n",
       "      <th>City_Category</th>\n",
       "      <th>Stay_In_Current_City_Years</th>\n",
       "      <th>Marital_Status</th>\n",
       "      <th>Product_Category</th>\n",
       "      <th>Purchase</th>\n",
       "    </tr>\n",
       "  </thead>\n",
       "  <tbody>\n",
       "    <tr>\n",
       "      <th>0</th>\n",
       "      <td>1000001</td>\n",
       "      <td>P00069042</td>\n",
       "      <td>F</td>\n",
       "      <td>0-17</td>\n",
       "      <td>10</td>\n",
       "      <td>A</td>\n",
       "      <td>2</td>\n",
       "      <td>0</td>\n",
       "      <td>3</td>\n",
       "      <td>8370</td>\n",
       "    </tr>\n",
       "    <tr>\n",
       "      <th>1</th>\n",
       "      <td>1000001</td>\n",
       "      <td>P00248942</td>\n",
       "      <td>F</td>\n",
       "      <td>0-17</td>\n",
       "      <td>10</td>\n",
       "      <td>A</td>\n",
       "      <td>2</td>\n",
       "      <td>0</td>\n",
       "      <td>1</td>\n",
       "      <td>15200</td>\n",
       "    </tr>\n",
       "    <tr>\n",
       "      <th>2</th>\n",
       "      <td>1000001</td>\n",
       "      <td>P00087842</td>\n",
       "      <td>F</td>\n",
       "      <td>0-17</td>\n",
       "      <td>10</td>\n",
       "      <td>A</td>\n",
       "      <td>2</td>\n",
       "      <td>0</td>\n",
       "      <td>12</td>\n",
       "      <td>1422</td>\n",
       "    </tr>\n",
       "    <tr>\n",
       "      <th>3</th>\n",
       "      <td>1000001</td>\n",
       "      <td>P00085442</td>\n",
       "      <td>F</td>\n",
       "      <td>0-17</td>\n",
       "      <td>10</td>\n",
       "      <td>A</td>\n",
       "      <td>2</td>\n",
       "      <td>0</td>\n",
       "      <td>12</td>\n",
       "      <td>1057</td>\n",
       "    </tr>\n",
       "    <tr>\n",
       "      <th>4</th>\n",
       "      <td>1000002</td>\n",
       "      <td>P00285442</td>\n",
       "      <td>M</td>\n",
       "      <td>55+</td>\n",
       "      <td>16</td>\n",
       "      <td>C</td>\n",
       "      <td>4+</td>\n",
       "      <td>0</td>\n",
       "      <td>8</td>\n",
       "      <td>7969</td>\n",
       "    </tr>\n",
       "    <tr>\n",
       "      <th>...</th>\n",
       "      <td>...</td>\n",
       "      <td>...</td>\n",
       "      <td>...</td>\n",
       "      <td>...</td>\n",
       "      <td>...</td>\n",
       "      <td>...</td>\n",
       "      <td>...</td>\n",
       "      <td>...</td>\n",
       "      <td>...</td>\n",
       "      <td>...</td>\n",
       "    </tr>\n",
       "    <tr>\n",
       "      <th>550063</th>\n",
       "      <td>1006033</td>\n",
       "      <td>P00372445</td>\n",
       "      <td>M</td>\n",
       "      <td>51-55</td>\n",
       "      <td>13</td>\n",
       "      <td>B</td>\n",
       "      <td>1</td>\n",
       "      <td>1</td>\n",
       "      <td>20</td>\n",
       "      <td>368</td>\n",
       "    </tr>\n",
       "    <tr>\n",
       "      <th>550064</th>\n",
       "      <td>1006035</td>\n",
       "      <td>P00375436</td>\n",
       "      <td>F</td>\n",
       "      <td>26-35</td>\n",
       "      <td>1</td>\n",
       "      <td>C</td>\n",
       "      <td>3</td>\n",
       "      <td>0</td>\n",
       "      <td>20</td>\n",
       "      <td>371</td>\n",
       "    </tr>\n",
       "    <tr>\n",
       "      <th>550065</th>\n",
       "      <td>1006036</td>\n",
       "      <td>P00375436</td>\n",
       "      <td>F</td>\n",
       "      <td>26-35</td>\n",
       "      <td>15</td>\n",
       "      <td>B</td>\n",
       "      <td>4+</td>\n",
       "      <td>1</td>\n",
       "      <td>20</td>\n",
       "      <td>137</td>\n",
       "    </tr>\n",
       "    <tr>\n",
       "      <th>550066</th>\n",
       "      <td>1006038</td>\n",
       "      <td>P00375436</td>\n",
       "      <td>F</td>\n",
       "      <td>55+</td>\n",
       "      <td>1</td>\n",
       "      <td>C</td>\n",
       "      <td>2</td>\n",
       "      <td>0</td>\n",
       "      <td>20</td>\n",
       "      <td>365</td>\n",
       "    </tr>\n",
       "    <tr>\n",
       "      <th>550067</th>\n",
       "      <td>1006039</td>\n",
       "      <td>P00371644</td>\n",
       "      <td>F</td>\n",
       "      <td>46-50</td>\n",
       "      <td>0</td>\n",
       "      <td>B</td>\n",
       "      <td>4+</td>\n",
       "      <td>1</td>\n",
       "      <td>20</td>\n",
       "      <td>490</td>\n",
       "    </tr>\n",
       "  </tbody>\n",
       "</table>\n",
       "<p>550068 rows × 10 columns</p>\n",
       "</div>"
      ],
      "text/plain": [
       "        User_ID Product_ID Gender    Age  Occupation City_Category  \\\n",
       "0       1000001  P00069042      F   0-17          10             A   \n",
       "1       1000001  P00248942      F   0-17          10             A   \n",
       "2       1000001  P00087842      F   0-17          10             A   \n",
       "3       1000001  P00085442      F   0-17          10             A   \n",
       "4       1000002  P00285442      M    55+          16             C   \n",
       "...         ...        ...    ...    ...         ...           ...   \n",
       "550063  1006033  P00372445      M  51-55          13             B   \n",
       "550064  1006035  P00375436      F  26-35           1             C   \n",
       "550065  1006036  P00375436      F  26-35          15             B   \n",
       "550066  1006038  P00375436      F    55+           1             C   \n",
       "550067  1006039  P00371644      F  46-50           0             B   \n",
       "\n",
       "       Stay_In_Current_City_Years  Marital_Status  Product_Category  Purchase  \n",
       "0                               2               0                 3      8370  \n",
       "1                               2               0                 1     15200  \n",
       "2                               2               0                12      1422  \n",
       "3                               2               0                12      1057  \n",
       "4                              4+               0                 8      7969  \n",
       "...                           ...             ...               ...       ...  \n",
       "550063                          1               1                20       368  \n",
       "550064                          3               0                20       371  \n",
       "550065                         4+               1                20       137  \n",
       "550066                          2               0                20       365  \n",
       "550067                         4+               1                20       490  \n",
       "\n",
       "[550068 rows x 10 columns]"
      ]
     },
     "execution_count": 3,
     "metadata": {},
     "output_type": "execute_result"
    }
   ],
   "source": [
    "df"
   ]
  },
  {
   "cell_type": "code",
   "execution_count": 4,
   "id": "3dd67f9d-b539-400d-9e1b-f073bd1d0f4b",
   "metadata": {},
   "outputs": [
    {
     "data": {
      "text/plain": [
       "(550068, 10)"
      ]
     },
     "execution_count": 4,
     "metadata": {},
     "output_type": "execute_result"
    }
   ],
   "source": [
    "df.shape"
   ]
  },
  {
   "cell_type": "markdown",
   "id": "fefcae9a-3b21-4c2a-b24b-8e0a487d9352",
   "metadata": {},
   "source": [
    "- Data consists of 550068 rows and 10 columns"
   ]
  },
  {
   "cell_type": "code",
   "execution_count": 5,
   "id": "9bc4b80c-65cc-479f-af8f-631f971dbea6",
   "metadata": {},
   "outputs": [
    {
     "name": "stdout",
     "output_type": "stream",
     "text": [
      "<class 'pandas.core.frame.DataFrame'>\n",
      "RangeIndex: 550068 entries, 0 to 550067\n",
      "Data columns (total 10 columns):\n",
      " #   Column                      Non-Null Count   Dtype \n",
      "---  ------                      --------------   ----- \n",
      " 0   User_ID                     550068 non-null  int64 \n",
      " 1   Product_ID                  550068 non-null  object\n",
      " 2   Gender                      550068 non-null  object\n",
      " 3   Age                         550068 non-null  object\n",
      " 4   Occupation                  550068 non-null  int64 \n",
      " 5   City_Category               550068 non-null  object\n",
      " 6   Stay_In_Current_City_Years  550068 non-null  object\n",
      " 7   Marital_Status              550068 non-null  int64 \n",
      " 8   Product_Category            550068 non-null  int64 \n",
      " 9   Purchase                    550068 non-null  int64 \n",
      "dtypes: int64(5), object(5)\n",
      "memory usage: 42.0+ MB\n"
     ]
    }
   ],
   "source": [
    "df.info()"
   ]
  },
  {
   "cell_type": "markdown",
   "id": "5eee74ac-497b-47e2-b4ad-da90f047e07d",
   "metadata": {},
   "source": [
    "- 5 out of 10 columns have data of type int and rest are of object type (string) and data seems to be clean without any null or missing values"
   ]
  },
  {
   "cell_type": "code",
   "execution_count": 6,
   "id": "0fad0fc2-b878-4174-ae6b-3d65359abac9",
   "metadata": {},
   "outputs": [
    {
     "data": {
      "text/html": [
       "<div>\n",
       "<style scoped>\n",
       "    .dataframe tbody tr th:only-of-type {\n",
       "        vertical-align: middle;\n",
       "    }\n",
       "\n",
       "    .dataframe tbody tr th {\n",
       "        vertical-align: top;\n",
       "    }\n",
       "\n",
       "    .dataframe thead th {\n",
       "        text-align: right;\n",
       "    }\n",
       "</style>\n",
       "<table border=\"1\" class=\"dataframe\">\n",
       "  <thead>\n",
       "    <tr style=\"text-align: right;\">\n",
       "      <th></th>\n",
       "      <th>User_ID</th>\n",
       "      <th>Occupation</th>\n",
       "      <th>Marital_Status</th>\n",
       "      <th>Product_Category</th>\n",
       "      <th>Purchase</th>\n",
       "    </tr>\n",
       "  </thead>\n",
       "  <tbody>\n",
       "    <tr>\n",
       "      <th>count</th>\n",
       "      <td>5.500680e+05</td>\n",
       "      <td>550068.000000</td>\n",
       "      <td>550068.000000</td>\n",
       "      <td>550068.000000</td>\n",
       "      <td>550068.000000</td>\n",
       "    </tr>\n",
       "    <tr>\n",
       "      <th>mean</th>\n",
       "      <td>1.003029e+06</td>\n",
       "      <td>8.076707</td>\n",
       "      <td>0.409653</td>\n",
       "      <td>5.404270</td>\n",
       "      <td>9263.968713</td>\n",
       "    </tr>\n",
       "    <tr>\n",
       "      <th>std</th>\n",
       "      <td>1.727592e+03</td>\n",
       "      <td>6.522660</td>\n",
       "      <td>0.491770</td>\n",
       "      <td>3.936211</td>\n",
       "      <td>5023.065394</td>\n",
       "    </tr>\n",
       "    <tr>\n",
       "      <th>min</th>\n",
       "      <td>1.000001e+06</td>\n",
       "      <td>0.000000</td>\n",
       "      <td>0.000000</td>\n",
       "      <td>1.000000</td>\n",
       "      <td>12.000000</td>\n",
       "    </tr>\n",
       "    <tr>\n",
       "      <th>25%</th>\n",
       "      <td>1.001516e+06</td>\n",
       "      <td>2.000000</td>\n",
       "      <td>0.000000</td>\n",
       "      <td>1.000000</td>\n",
       "      <td>5823.000000</td>\n",
       "    </tr>\n",
       "    <tr>\n",
       "      <th>50%</th>\n",
       "      <td>1.003077e+06</td>\n",
       "      <td>7.000000</td>\n",
       "      <td>0.000000</td>\n",
       "      <td>5.000000</td>\n",
       "      <td>8047.000000</td>\n",
       "    </tr>\n",
       "    <tr>\n",
       "      <th>75%</th>\n",
       "      <td>1.004478e+06</td>\n",
       "      <td>14.000000</td>\n",
       "      <td>1.000000</td>\n",
       "      <td>8.000000</td>\n",
       "      <td>12054.000000</td>\n",
       "    </tr>\n",
       "    <tr>\n",
       "      <th>max</th>\n",
       "      <td>1.006040e+06</td>\n",
       "      <td>20.000000</td>\n",
       "      <td>1.000000</td>\n",
       "      <td>20.000000</td>\n",
       "      <td>23961.000000</td>\n",
       "    </tr>\n",
       "  </tbody>\n",
       "</table>\n",
       "</div>"
      ],
      "text/plain": [
       "            User_ID     Occupation  Marital_Status  Product_Category  \\\n",
       "count  5.500680e+05  550068.000000   550068.000000     550068.000000   \n",
       "mean   1.003029e+06       8.076707        0.409653          5.404270   \n",
       "std    1.727592e+03       6.522660        0.491770          3.936211   \n",
       "min    1.000001e+06       0.000000        0.000000          1.000000   \n",
       "25%    1.001516e+06       2.000000        0.000000          1.000000   \n",
       "50%    1.003077e+06       7.000000        0.000000          5.000000   \n",
       "75%    1.004478e+06      14.000000        1.000000          8.000000   \n",
       "max    1.006040e+06      20.000000        1.000000         20.000000   \n",
       "\n",
       "            Purchase  \n",
       "count  550068.000000  \n",
       "mean     9263.968713  \n",
       "std      5023.065394  \n",
       "min        12.000000  \n",
       "25%      5823.000000  \n",
       "50%      8047.000000  \n",
       "75%     12054.000000  \n",
       "max     23961.000000  "
      ]
     },
     "execution_count": 6,
     "metadata": {},
     "output_type": "execute_result"
    }
   ],
   "source": [
    "df.describe()"
   ]
  },
  {
   "cell_type": "markdown",
   "id": "3233342d-2a06-4446-a3a2-cbda2245bd8a",
   "metadata": {},
   "source": [
    "- A significant difference in mean and median value indicate the existence of outliers"
   ]
  },
  {
   "cell_type": "code",
   "execution_count": 7,
   "id": "cad8b3d9-978b-4df8-a4bb-62ce3384187d",
   "metadata": {},
   "outputs": [
    {
     "data": {
      "text/html": [
       "<div>\n",
       "<style scoped>\n",
       "    .dataframe tbody tr th:only-of-type {\n",
       "        vertical-align: middle;\n",
       "    }\n",
       "\n",
       "    .dataframe tbody tr th {\n",
       "        vertical-align: top;\n",
       "    }\n",
       "\n",
       "    .dataframe thead th {\n",
       "        text-align: right;\n",
       "    }\n",
       "</style>\n",
       "<table border=\"1\" class=\"dataframe\">\n",
       "  <thead>\n",
       "    <tr style=\"text-align: right;\">\n",
       "      <th></th>\n",
       "      <th>User_ID</th>\n",
       "      <th>Product_ID</th>\n",
       "      <th>Gender</th>\n",
       "      <th>Age</th>\n",
       "      <th>Occupation</th>\n",
       "      <th>City_Category</th>\n",
       "      <th>Stay_In_Current_City_Years</th>\n",
       "      <th>Marital_Status</th>\n",
       "      <th>Product_Category</th>\n",
       "      <th>Purchase</th>\n",
       "    </tr>\n",
       "  </thead>\n",
       "  <tbody>\n",
       "    <tr>\n",
       "      <th>count</th>\n",
       "      <td>5.500680e+05</td>\n",
       "      <td>550068</td>\n",
       "      <td>550068</td>\n",
       "      <td>550068</td>\n",
       "      <td>550068.000000</td>\n",
       "      <td>550068</td>\n",
       "      <td>550068</td>\n",
       "      <td>550068.000000</td>\n",
       "      <td>550068.000000</td>\n",
       "      <td>550068.000000</td>\n",
       "    </tr>\n",
       "    <tr>\n",
       "      <th>unique</th>\n",
       "      <td>NaN</td>\n",
       "      <td>3631</td>\n",
       "      <td>2</td>\n",
       "      <td>7</td>\n",
       "      <td>NaN</td>\n",
       "      <td>3</td>\n",
       "      <td>5</td>\n",
       "      <td>NaN</td>\n",
       "      <td>NaN</td>\n",
       "      <td>NaN</td>\n",
       "    </tr>\n",
       "    <tr>\n",
       "      <th>top</th>\n",
       "      <td>NaN</td>\n",
       "      <td>P00265242</td>\n",
       "      <td>M</td>\n",
       "      <td>26-35</td>\n",
       "      <td>NaN</td>\n",
       "      <td>B</td>\n",
       "      <td>1</td>\n",
       "      <td>NaN</td>\n",
       "      <td>NaN</td>\n",
       "      <td>NaN</td>\n",
       "    </tr>\n",
       "    <tr>\n",
       "      <th>freq</th>\n",
       "      <td>NaN</td>\n",
       "      <td>1880</td>\n",
       "      <td>414259</td>\n",
       "      <td>219587</td>\n",
       "      <td>NaN</td>\n",
       "      <td>231173</td>\n",
       "      <td>193821</td>\n",
       "      <td>NaN</td>\n",
       "      <td>NaN</td>\n",
       "      <td>NaN</td>\n",
       "    </tr>\n",
       "    <tr>\n",
       "      <th>mean</th>\n",
       "      <td>1.003029e+06</td>\n",
       "      <td>NaN</td>\n",
       "      <td>NaN</td>\n",
       "      <td>NaN</td>\n",
       "      <td>8.076707</td>\n",
       "      <td>NaN</td>\n",
       "      <td>NaN</td>\n",
       "      <td>0.409653</td>\n",
       "      <td>5.404270</td>\n",
       "      <td>9263.968713</td>\n",
       "    </tr>\n",
       "    <tr>\n",
       "      <th>std</th>\n",
       "      <td>1.727592e+03</td>\n",
       "      <td>NaN</td>\n",
       "      <td>NaN</td>\n",
       "      <td>NaN</td>\n",
       "      <td>6.522660</td>\n",
       "      <td>NaN</td>\n",
       "      <td>NaN</td>\n",
       "      <td>0.491770</td>\n",
       "      <td>3.936211</td>\n",
       "      <td>5023.065394</td>\n",
       "    </tr>\n",
       "    <tr>\n",
       "      <th>min</th>\n",
       "      <td>1.000001e+06</td>\n",
       "      <td>NaN</td>\n",
       "      <td>NaN</td>\n",
       "      <td>NaN</td>\n",
       "      <td>0.000000</td>\n",
       "      <td>NaN</td>\n",
       "      <td>NaN</td>\n",
       "      <td>0.000000</td>\n",
       "      <td>1.000000</td>\n",
       "      <td>12.000000</td>\n",
       "    </tr>\n",
       "    <tr>\n",
       "      <th>25%</th>\n",
       "      <td>1.001516e+06</td>\n",
       "      <td>NaN</td>\n",
       "      <td>NaN</td>\n",
       "      <td>NaN</td>\n",
       "      <td>2.000000</td>\n",
       "      <td>NaN</td>\n",
       "      <td>NaN</td>\n",
       "      <td>0.000000</td>\n",
       "      <td>1.000000</td>\n",
       "      <td>5823.000000</td>\n",
       "    </tr>\n",
       "    <tr>\n",
       "      <th>50%</th>\n",
       "      <td>1.003077e+06</td>\n",
       "      <td>NaN</td>\n",
       "      <td>NaN</td>\n",
       "      <td>NaN</td>\n",
       "      <td>7.000000</td>\n",
       "      <td>NaN</td>\n",
       "      <td>NaN</td>\n",
       "      <td>0.000000</td>\n",
       "      <td>5.000000</td>\n",
       "      <td>8047.000000</td>\n",
       "    </tr>\n",
       "    <tr>\n",
       "      <th>75%</th>\n",
       "      <td>1.004478e+06</td>\n",
       "      <td>NaN</td>\n",
       "      <td>NaN</td>\n",
       "      <td>NaN</td>\n",
       "      <td>14.000000</td>\n",
       "      <td>NaN</td>\n",
       "      <td>NaN</td>\n",
       "      <td>1.000000</td>\n",
       "      <td>8.000000</td>\n",
       "      <td>12054.000000</td>\n",
       "    </tr>\n",
       "    <tr>\n",
       "      <th>max</th>\n",
       "      <td>1.006040e+06</td>\n",
       "      <td>NaN</td>\n",
       "      <td>NaN</td>\n",
       "      <td>NaN</td>\n",
       "      <td>20.000000</td>\n",
       "      <td>NaN</td>\n",
       "      <td>NaN</td>\n",
       "      <td>1.000000</td>\n",
       "      <td>20.000000</td>\n",
       "      <td>23961.000000</td>\n",
       "    </tr>\n",
       "  </tbody>\n",
       "</table>\n",
       "</div>"
      ],
      "text/plain": [
       "             User_ID Product_ID  Gender     Age     Occupation City_Category  \\\n",
       "count   5.500680e+05     550068  550068  550068  550068.000000        550068   \n",
       "unique           NaN       3631       2       7            NaN             3   \n",
       "top              NaN  P00265242       M   26-35            NaN             B   \n",
       "freq             NaN       1880  414259  219587            NaN        231173   \n",
       "mean    1.003029e+06        NaN     NaN     NaN       8.076707           NaN   \n",
       "std     1.727592e+03        NaN     NaN     NaN       6.522660           NaN   \n",
       "min     1.000001e+06        NaN     NaN     NaN       0.000000           NaN   \n",
       "25%     1.001516e+06        NaN     NaN     NaN       2.000000           NaN   \n",
       "50%     1.003077e+06        NaN     NaN     NaN       7.000000           NaN   \n",
       "75%     1.004478e+06        NaN     NaN     NaN      14.000000           NaN   \n",
       "max     1.006040e+06        NaN     NaN     NaN      20.000000           NaN   \n",
       "\n",
       "       Stay_In_Current_City_Years  Marital_Status  Product_Category  \\\n",
       "count                      550068   550068.000000     550068.000000   \n",
       "unique                          5             NaN               NaN   \n",
       "top                             1             NaN               NaN   \n",
       "freq                       193821             NaN               NaN   \n",
       "mean                          NaN        0.409653          5.404270   \n",
       "std                           NaN        0.491770          3.936211   \n",
       "min                           NaN        0.000000          1.000000   \n",
       "25%                           NaN        0.000000          1.000000   \n",
       "50%                           NaN        0.000000          5.000000   \n",
       "75%                           NaN        1.000000          8.000000   \n",
       "max                           NaN        1.000000         20.000000   \n",
       "\n",
       "             Purchase  \n",
       "count   550068.000000  \n",
       "unique            NaN  \n",
       "top               NaN  \n",
       "freq              NaN  \n",
       "mean      9263.968713  \n",
       "std       5023.065394  \n",
       "min         12.000000  \n",
       "25%       5823.000000  \n",
       "50%       8047.000000  \n",
       "75%      12054.000000  \n",
       "max      23961.000000  "
      ]
     },
     "execution_count": 7,
     "metadata": {},
     "output_type": "execute_result"
    }
   ],
   "source": [
    "df.describe(include=\"all\")"
   ]
  },
  {
   "cell_type": "markdown",
   "id": "fdda5c3c-b187-44dc-9cac-54d4d0d78860",
   "metadata": {},
   "source": [
    "- user IDs are unique in all the rows\n",
    "- There are 550068 products sold and there are 3631 unique products in them\n",
    "- Out of 550068 customers, 414259 are male(75.31%)\n",
    "- Customers are categorised in 7 age groups and in that customers between age 26-35 have done most of the pirchases. 219587 out of 550068(39.91%)\n",
    "- Cities  are categorised into A,B and C and 231173 out of 550068 purchases happened in city category-B (42.02%)\n",
    "- Stay in current city is the number of years customers have been staying in the city where purchase is done and the possible values are 0,1,2,3 and 4+ years\n",
    "- 324731 customers are unmarried and 225337 are married\n",
    "- All the 3631 unique products have been categorised into 20 unique product categories and are denoted by numbers from 1 to 20 \n",
    "- Minimum amount of puchase is 12 and Maximum is 23961 with 9263 as mean puchase amount\n"
   ]
  },
  {
   "cell_type": "code",
   "execution_count": 8,
   "id": "1389f69c-c3cd-43ff-89a7-02c05dd6912a",
   "metadata": {},
   "outputs": [
    {
     "data": {
      "text/plain": [
       "0    324731\n",
       "1    225337\n",
       "Name: Marital_Status, dtype: int64"
      ]
     },
     "execution_count": 8,
     "metadata": {},
     "output_type": "execute_result"
    }
   ],
   "source": [
    "Marital_status=df[\"Marital_Status\"].value_counts()\n",
    "Marital_status"
   ]
  },
  {
   "cell_type": "markdown",
   "id": "8f852575-0a85-4908-a2e7-4a1d96f0f1d0",
   "metadata": {},
   "source": [
    "- Majority of customers are umnarried"
   ]
  },
  {
   "cell_type": "code",
   "execution_count": 9,
   "id": "ced0756e-2eab-49ea-bbd9-d6b2fdfe4ab6",
   "metadata": {},
   "outputs": [
    {
     "data": {
      "image/png": "[encoded data removed]",
      "text/plain": [
       "<Figure size 432x288 with 1 Axes>"
      ]
     },
     "metadata": {},
     "output_type": "display_data"
    }
   ],
   "source": [
    "plt.pie(Marital_status,labels=Marital_status.index)\n",
    "plt.show()"
   ]
  },
  {
   "cell_type": "code",
   "execution_count": 272,
   "id": "190470c9-afa1-4a0c-963d-c906f5cf9246",
   "metadata": {},
   "outputs": [
    {
     "data": {
      "text/plain": [
       "5     150933\n",
       "1     140378\n",
       "8     113925\n",
       "11     24287\n",
       "2      23864\n",
       "6      20466\n",
       "3      20213\n",
       "4      11753\n",
       "16      9828\n",
       "15      6290\n",
       "13      5549\n",
       "10      5125\n",
       "12      3947\n",
       "7       3721\n",
       "18      3125\n",
       "20      2550\n",
       "19      1603\n",
       "14      1523\n",
       "17       578\n",
       "9        410\n",
       "Name: Product_Category, dtype: int64"
      ]
     },
     "execution_count": 272,
     "metadata": {},
     "output_type": "execute_result"
    }
   ],
   "source": [
    "prdt_catgry_sales=df[\"Product_Category\"].value_counts()\n",
    "prdt_catgry_sales"
   ]
  },
  {
   "cell_type": "code",
   "execution_count": 273,
   "id": "cc0f593d-5f59-40ee-a482-58bd9268cd0f",
   "metadata": {},
   "outputs": [
    {
     "name": "stderr",
     "output_type": "stream",
     "text": [
      "C:\\Users\\lenovo\\anaconda3\\lib\\site-packages\\seaborn\\_decorators.py:36: FutureWarning: Pass the following variable as a keyword arg: x. From version 0.12, the only valid positional argument will be `data`, and passing other arguments without an explicit keyword will result in an error or misinterpretation.\n",
      "  warnings.warn(\n"
     ]
    },
    {
     "data": {
      "text/plain": [
       "<AxesSubplot:xlabel='Product_Category'>"
      ]
     },
     "execution_count": 273,
     "metadata": {},
     "output_type": "execute_result"
    },
    {
     "data": {
      "image/png": "[encoded data removed]",
      "text/plain": [
       "<Figure size 432x288 with 1 Axes>"
      ]
     },
     "metadata": {
      "needs_background": "light"
     },
     "output_type": "display_data"
    }
   ],
   "source": [
    "sns.boxplot(prdt_catgry_sales)"
   ]
  },
  {
   "cell_type": "markdown",
   "id": "4999932d-7f8d-4720-86f1-13892a407ca5",
   "metadata": {},
   "source": [
    "- there are 20 different product categories and in that categories 5,1,8 are outliers when the purchase is considered"
   ]
  },
  {
   "cell_type": "code",
   "execution_count": 11,
   "id": "4ceec0a5-ca77-4452-905f-98cf547758c5",
   "metadata": {},
   "outputs": [
    {
     "data": {
      "text/plain": [
       "<AxesSubplot:xlabel='Product_Category', ylabel='count'>"
      ]
     },
     "execution_count": 11,
     "metadata": {},
     "output_type": "execute_result"
    },
    {
     "data": {
      "image/png": "[encoded data removed]",
      "text/plain": [
       "<Figure size 432x288 with 1 Axes>"
      ]
     },
     "metadata": {
      "needs_background": "light"
     },
     "output_type": "display_data"
    }
   ],
   "source": [
    "sns.countplot(x=df[\"Product_Category\"])"
   ]
  },
  {
   "cell_type": "code",
   "execution_count": 12,
   "id": "d5526f34-474d-4f3a-b6f6-d5817dd4b4b8",
   "metadata": {},
   "outputs": [
    {
     "data": {
      "text/plain": [
       "4     72308\n",
       "0     69638\n",
       "7     59133\n",
       "1     47426\n",
       "17    40043\n",
       "20    33562\n",
       "12    31179\n",
       "14    27309\n",
       "2     26588\n",
       "16    25371\n",
       "6     20355\n",
       "3     17650\n",
       "10    12930\n",
       "5     12177\n",
       "15    12165\n",
       "11    11586\n",
       "19     8461\n",
       "13     7728\n",
       "18     6622\n",
       "9      6291\n",
       "8      1546\n",
       "Name: Occupation, dtype: int64"
      ]
     },
     "execution_count": 12,
     "metadata": {},
     "output_type": "execute_result"
    }
   ],
   "source": [
    "Occupation_list=df[\"Occupation\"].value_counts()\n",
    "Occupation_list"
   ]
  },
  {
   "cell_type": "code",
   "execution_count": 13,
   "id": "dcbdda76-7f29-48ba-9f7f-030a09b92f3e",
   "metadata": {},
   "outputs": [
    {
     "data": {
      "image/png": "[encoded data removed]",
      "text/plain": [
       "<Figure size 432x288 with 1 Axes>"
      ]
     },
     "metadata": {},
     "output_type": "display_data"
    }
   ],
   "source": [
    "plt.pie(Occupation_list,labels=Occupation_list.index)\n",
    "plt.show()"
   ]
  },
  {
   "cell_type": "code",
   "execution_count": 14,
   "id": "8c2426fa-9454-4f91-bc1e-18fec2ab4eda",
   "metadata": {},
   "outputs": [
    {
     "data": {
      "image/png": "[encoded data removed]",
      "text/plain": [
       "<Figure size 432x288 with 1 Axes>"
      ]
     },
     "metadata": {
      "needs_background": "light"
     },
     "output_type": "display_data"
    }
   ],
   "source": [
    "x=Occupation_list.index\n",
    "y=Occupation_list\n",
    "plt.bar(x,y)\n",
    "plt.xticks(rotation=0)\n",
    "plt.show()"
   ]
  },
  {
   "cell_type": "code",
   "execution_count": 15,
   "id": "543ed249-a581-4c6c-a963-dbcbd5605c24",
   "metadata": {},
   "outputs": [
    {
     "data": {
      "text/plain": [
       "M    414259\n",
       "F    135809\n",
       "Name: Gender, dtype: int64"
      ]
     },
     "execution_count": 15,
     "metadata": {},
     "output_type": "execute_result"
    }
   ],
   "source": [
    "Gender_count=df[\"Gender\"].value_counts()\n",
    "Gender_count"
   ]
  },
  {
   "cell_type": "markdown",
   "id": "e4cd4a3d-94d6-4c1e-a694-f98bb8bb5ae4",
   "metadata": {},
   "source": [
    "- majority of customers are Males. "
   ]
  },
  {
   "cell_type": "code",
   "execution_count": 16,
   "id": "395c957d-c4a6-4397-984c-8e4752f10859",
   "metadata": {},
   "outputs": [
    {
     "data": {
      "image/png": "[encoded data removed]",
      "text/plain": [
       "<Figure size 432x288 with 1 Axes>"
      ]
     },
     "metadata": {},
     "output_type": "display_data"
    }
   ],
   "source": [
    "plt.pie(Gender_count,labels=Gender_count.index)\n",
    "plt.show()"
   ]
  },
  {
   "cell_type": "code",
   "execution_count": 17,
   "id": "3f9a42af-d213-490d-b738-083599792fec",
   "metadata": {},
   "outputs": [
    {
     "data": {
      "text/plain": [
       "26-35    219587\n",
       "36-45    110013\n",
       "18-25     99660\n",
       "46-50     45701\n",
       "51-55     38501\n",
       "55+       21504\n",
       "0-17      15102\n",
       "Name: Age, dtype: int64"
      ]
     },
     "execution_count": 17,
     "metadata": {},
     "output_type": "execute_result"
    }
   ],
   "source": [
    "df[\"Age\"].value_counts()"
   ]
  },
  {
   "cell_type": "markdown",
   "id": "822b7465-a326-4ad9-b219-1e3d2a8b4129",
   "metadata": {},
   "source": [
    "- majority of customers belong to the age group 26-35"
   ]
  },
  {
   "cell_type": "code",
   "execution_count": 18,
   "id": "580b4a1e-a294-4ffe-8efb-fdf13f99fa57",
   "metadata": {},
   "outputs": [
    {
     "data": {
      "text/plain": [
       "<AxesSubplot:xlabel='Age', ylabel='count'>"
      ]
     },
     "execution_count": 18,
     "metadata": {},
     "output_type": "execute_result"
    },
    {
     "data": {
      "image/png": "[encoded data removed]",
      "text/plain": [
       "<Figure size 432x288 with 1 Axes>"
      ]
     },
     "metadata": {
      "needs_background": "light"
     },
     "output_type": "display_data"
    }
   ],
   "source": [
    "sns.countplot(x=df[\"Age\"])"
   ]
  },
  {
   "cell_type": "code",
   "execution_count": 19,
   "id": "bf51618d-fe1e-4d5e-a509-ddd905e113f5",
   "metadata": {},
   "outputs": [
    {
     "data": {
      "text/plain": [
       "B    231173\n",
       "C    171175\n",
       "A    147720\n",
       "Name: City_Category, dtype: int64"
      ]
     },
     "execution_count": 19,
     "metadata": {},
     "output_type": "execute_result"
    }
   ],
   "source": [
    "City=df[\"City_Category\"].value_counts()\n",
    "City"
   ]
  },
  {
   "cell_type": "markdown",
   "id": "f83daf38-d4a0-4c42-a0bb-5133a0531ac7",
   "metadata": {},
   "source": [
    "- most customers belong to city category-B"
   ]
  },
  {
   "cell_type": "code",
   "execution_count": 20,
   "id": "5358224c-d3b8-4b77-b10e-d3bad0b150c7",
   "metadata": {},
   "outputs": [
    {
     "data": {
      "text/plain": [
       "<AxesSubplot:xlabel='City_Category', ylabel='count'>"
      ]
     },
     "execution_count": 20,
     "metadata": {},
     "output_type": "execute_result"
    },
    {
     "data": {
      "image/png": "[encoded data removed]",
      "text/plain": [
       "<Figure size 432x288 with 1 Axes>"
      ]
     },
     "metadata": {
      "needs_background": "light"
     },
     "output_type": "display_data"
    }
   ],
   "source": [
    "sns.countplot(x=df[\"City_Category\"])"
   ]
  },
  {
   "cell_type": "code",
   "execution_count": 21,
   "id": "ebc2aba3-509f-4aa4-a894-997982faf010",
   "metadata": {},
   "outputs": [
    {
     "data": {
      "text/plain": [
       "1     193821\n",
       "2     101838\n",
       "3      95285\n",
       "4+     84726\n",
       "0      74398\n",
       "Name: Stay_In_Current_City_Years, dtype: int64"
      ]
     },
     "execution_count": 21,
     "metadata": {},
     "output_type": "execute_result"
    }
   ],
   "source": [
    "df[\"Stay_In_Current_City_Years\"].value_counts()"
   ]
  },
  {
   "cell_type": "markdown",
   "id": "3f5e5620-cd2c-42db-8b28-2e65c43d749d",
   "metadata": {},
   "source": [
    "- customers who live in the current city since 1-2 years constitute majority of customers"
   ]
  },
  {
   "cell_type": "code",
   "execution_count": null,
   "id": "806f6c30-c0d9-4979-8fb3-cf0e53caa35c",
   "metadata": {},
   "outputs": [
    {
     "data": {
      "text/plain": [
       "<AxesSubplot:xlabel='Stay_In_Current_City_Years', ylabel='count'>"
      ]
     },
     "execution_count": 22,
     "metadata": {},
     "output_type": "execute_result"
    },
    {
     "data": {
      "image/png": "[encoded data removed]",
      "text/plain": [
       "<Figure size 432x288 with 1 Axes>"
      ]
     },
     "metadata": {
      "needs_background": "light"
     },
     "output_type": "display_data"
    }
   ],
   "source": [
    "sns.countplot(x=df[\"Stay_In_Current_City_Years\"])"
   ]
  },
  {
   "cell_type": "code",
   "execution_count": null,
   "id": "455988c6-f57e-4c87-a588-9a5b2bd69081",
   "metadata": {},
   "outputs": [
    {
     "data": {
      "text/plain": [
       "0    324731\n",
       "1    225337\n",
       "Name: Marital_Status, dtype: int64"
      ]
     },
     "execution_count": 23,
     "metadata": {},
     "output_type": "execute_result"
    }
   ],
   "source": [
    "df[\"Marital_Status\"].value_counts()"
   ]
  },
  {
   "cell_type": "code",
   "execution_count": 24,
   "id": "8bd70048-dccb-4164-ac31-434d055d68ec",
   "metadata": {},
   "outputs": [
    {
     "data": {
      "text/plain": [
       "5     150933\n",
       "1     140378\n",
       "8     113925\n",
       "11     24287\n",
       "2      23864\n",
       "6      20466\n",
       "3      20213\n",
       "4      11753\n",
       "16      9828\n",
       "15      6290\n",
       "13      5549\n",
       "10      5125\n",
       "12      3947\n",
       "7       3721\n",
       "18      3125\n",
       "20      2550\n",
       "19      1603\n",
       "14      1523\n",
       "17       578\n",
       "9        410\n",
       "Name: Product_Category, dtype: int64"
      ]
     },
     "execution_count": 24,
     "metadata": {},
     "output_type": "execute_result"
    }
   ],
   "source": [
    "df[\"Product_Category\"].value_counts()"
   ]
  },
  {
   "cell_type": "code",
   "execution_count": 25,
   "id": "5e61060e-5805-4d99-a196-89a08d6b9a00",
   "metadata": {},
   "outputs": [
    {
     "data": {
      "text/plain": [
       "<seaborn.axisgrid.FacetGrid at 0x84db7b1a90>"
      ]
     },
     "execution_count": 25,
     "metadata": {},
     "output_type": "execute_result"
    },
    {
     "data": {
      "image/png": "[encoded data removed]",
      "text/plain": [
       "<Figure size 360x360 with 1 Axes>"
      ]
     },
     "metadata": {},
     "output_type": "display_data"
    }
   ],
   "source": [
    "sns.set_style('whitegrid')\n",
    "sns.displot(df['Product_Category'], kde = False, color ='blue')"
   ]
  },
  {
   "cell_type": "code",
   "execution_count": 26,
   "id": "21634908-209c-45c3-b1c0-a2badd44ef00",
   "metadata": {},
   "outputs": [
    {
     "data": {
      "image/png": "[encoded data removed]",
      "text/plain": [
       "<Figure size 432x288 with 1 Axes>"
      ]
     },
     "metadata": {},
     "output_type": "display_data"
    }
   ],
   "source": [
    "sns.countplot(data=df,\n",
    "x=\"Product_Category\",\n",
    "hue=\"Gender\",)\n",
    "plt.title('Gender Vs Product_Category')\n",
    "plt.xticks(rotation=60)\n",
    "plt.legend(loc=(0.75,0.5))\n",
    "plt.show()"
   ]
  },
  {
   "cell_type": "code",
   "execution_count": null,
   "id": "a26f331d-baa0-453f-a8b1-7e8306f6e4de",
   "metadata": {},
   "outputs": [],
   "source": [
    "sns.pairplot(df, hue ='Age')\n",
    "plt.show()"
   ]
  },
  {
   "cell_type": "code",
   "execution_count": 27,
   "id": "d0c4de0c-2834-4cca-b4d8-b569f4a856c0",
   "metadata": {},
   "outputs": [
    {
     "data": {
      "text/plain": [
       "{'whiskers': [<matplotlib.lines.Line2D at 0x84db9355b0>,\n",
       "  <matplotlib.lines.Line2D at 0x84db935880>],\n",
       " 'caps': [<matplotlib.lines.Line2D at 0x84db935c10>,\n",
       "  <matplotlib.lines.Line2D at 0x84db935e20>],\n",
       " 'boxes': [<matplotlib.lines.Line2D at 0x84db927040>],\n",
       " 'medians': [<matplotlib.lines.Line2D at 0x84db943130>],\n",
       " 'fliers': [<matplotlib.lines.Line2D at 0x84db943400>],\n",
       " 'means': []}"
      ]
     },
     "execution_count": 27,
     "metadata": {},
     "output_type": "execute_result"
    },
    {
     "data": {
      "image/png": "[encoded data removed]",
      "text/plain": [
       "<Figure size 432x288 with 1 Axes>"
      ]
     },
     "metadata": {},
     "output_type": "display_data"
    }
   ],
   "source": [
    "plt.boxplot(x=df[\"Purchase\"])"
   ]
  },
  {
   "cell_type": "code",
   "execution_count": 28,
   "id": "8c19a727-935a-4ea3-90d6-21c4b235e330",
   "metadata": {},
   "outputs": [
    {
     "data": {
      "text/plain": [
       "21400.5"
      ]
     },
     "execution_count": 28,
     "metadata": {},
     "output_type": "execute_result"
    }
   ],
   "source": [
    "P_25=np.percentile(df[\"Purchase\"],25)\n",
    "P_75=np.percentile(df[\"Purchase\"],75)\n",
    "IQR=P_75-P_25\n",
    "Upper=P_75+1.5*IQR\n",
    "Upper"
   ]
  },
  {
   "cell_type": "markdown",
   "id": "c9ba2eaa-88d3-48f2-a5a4-bcbf08c61b7f",
   "metadata": {},
   "source": [
    "- All the purchase values above 21400.5 is considered as an outlier"
   ]
  },
  {
   "cell_type": "code",
   "execution_count": 29,
   "id": "c73015f9-e286-4296-bddf-5b99df1b6d00",
   "metadata": {},
   "outputs": [
    {
     "data": {
      "text/plain": [
       "2677"
      ]
     },
     "execution_count": 29,
     "metadata": {},
     "output_type": "execute_result"
    }
   ],
   "source": [
    "Purchase_outlier=df[df[\"Purchase\"]>Upper]\n",
    "len(Purchase_outlier)"
   ]
  },
  {
   "cell_type": "markdown",
   "id": "8666d02b-0a6b-4a2f-83c7-47aa68f4806e",
   "metadata": {},
   "source": [
    "- There are 2677 purchase values that are considered as outliers"
   ]
  },
  {
   "cell_type": "code",
   "execution_count": 30,
   "id": "9b6ab9ad-a0fa-4dc9-a2d2-cdbf9cf29259",
   "metadata": {},
   "outputs": [
    {
     "data": {
      "text/plain": [
       "0.4866671029763593"
      ]
     },
     "execution_count": 30,
     "metadata": {},
     "output_type": "execute_result"
    }
   ],
   "source": [
    "Percentage_of_outliers=len(Purchase_outlier)/len(df)*100\n",
    "Percentage_of_outliers"
   ]
  },
  {
   "cell_type": "markdown",
   "id": "d45605fb-acd1-4126-835c-662b02adfec3",
   "metadata": {},
   "source": [
    "- 0.4867 percentage of purchase amount is outliers"
   ]
  },
  {
   "cell_type": "code",
   "execution_count": 32,
   "id": "d3228a93-994a-43ce-b769-b4092002b275",
   "metadata": {},
   "outputs": [
    {
     "data": {
      "text/plain": [
       "{'whiskers': [<matplotlib.lines.Line2D at 0x84d493bf40>,\n",
       "  <matplotlib.lines.Line2D at 0x84d494b250>],\n",
       " 'caps': [<matplotlib.lines.Line2D at 0x84d494b520>,\n",
       "  <matplotlib.lines.Line2D at 0x84d494b7f0>],\n",
       " 'boxes': [<matplotlib.lines.Line2D at 0x84d493bc70>],\n",
       " 'medians': [<matplotlib.lines.Line2D at 0x84d494bac0>],\n",
       " 'fliers': [<matplotlib.lines.Line2D at 0x84d494bd90>],\n",
       " 'means': []}"
      ]
     },
     "execution_count": 32,
     "metadata": {},
     "output_type": "execute_result"
    },
    {
     "data": {
      "image/png": "[encoded data removed]",
      "text/plain": [
       "<Figure size 432x288 with 1 Axes>"
      ]
     },
     "metadata": {},
     "output_type": "display_data"
    }
   ],
   "source": [
    "plt.boxplot(x=df[\"Product_Category\"])"
   ]
  },
  {
   "cell_type": "code",
   "execution_count": 6,
   "id": "98d3cce9-b201-4ae1-bc0a-a5d7695cd437",
   "metadata": {},
   "outputs": [],
   "source": [
    "Male_purchases=df[df[\"Gender\"]==\"M\"]"
   ]
  },
  {
   "cell_type": "code",
   "execution_count": 7,
   "id": "e15619db-21f3-42fa-a243-9c8d4828f64b",
   "metadata": {},
   "outputs": [
    {
     "data": {
      "text/plain": [
       "9437.526040472265"
      ]
     },
     "execution_count": 7,
     "metadata": {},
     "output_type": "execute_result"
    }
   ],
   "source": [
    "np.mean(Male_purchases[\"Purchase\"])"
   ]
  },
  {
   "cell_type": "code",
   "execution_count": 8,
   "id": "377e4338-6969-4669-bade-4eed5273108c",
   "metadata": {},
   "outputs": [
    {
     "data": {
      "text/plain": [
       "8734.565765155476"
      ]
     },
     "execution_count": 8,
     "metadata": {},
     "output_type": "execute_result"
    }
   ],
   "source": [
    "Female_purchases=df[df[\"Gender\"]==\"F\"]\n",
    "np.mean(Female_purchases[\"Purchase\"])"
   ]
  },
  {
   "cell_type": "markdown",
   "id": "ffb4ab72-7f3a-489e-a3ab-261d7c27e31d",
   "metadata": {},
   "source": [
    "- On an average Male customers spend 9437 whereas Female customers spend 8734"
   ]
  },
  {
   "cell_type": "code",
   "execution_count": 9,
   "id": "e59e1757-3368-412a-868d-b132b0e19fe7",
   "metadata": {},
   "outputs": [
    {
     "data": {
      "text/plain": [
       "26-35    168835\n",
       "36-45     82843\n",
       "18-25     75032\n",
       "46-50     32502\n",
       "51-55     28607\n",
       "55+       16421\n",
       "0-17      10019\n",
       "Name: Age, dtype: int64"
      ]
     },
     "execution_count": 9,
     "metadata": {},
     "output_type": "execute_result"
    }
   ],
   "source": [
    "Male_purchases[\"Age\"].value_counts()"
   ]
  },
  {
   "cell_type": "code",
   "execution_count": 10,
   "id": "959d18c4-b2b9-4bad-819e-37f95a6a01ce",
   "metadata": {},
   "outputs": [
    {
     "data": {
      "text/plain": [
       "26-35    50752\n",
       "36-45    27170\n",
       "18-25    24628\n",
       "46-50    13199\n",
       "51-55     9894\n",
       "0-17      5083\n",
       "55+       5083\n",
       "Name: Age, dtype: int64"
      ]
     },
     "execution_count": 10,
     "metadata": {},
     "output_type": "execute_result"
    }
   ],
   "source": [
    "Female_purchases[\"Age\"].value_counts()"
   ]
  },
  {
   "cell_type": "markdown",
   "id": "bdddc405-d8e5-4acc-99f3-ec4475ab1152",
   "metadata": {},
   "source": [
    "- Minimum number of purchase by males are double that of females\n",
    "- In males,age group between 0-17 are doing least number of purchases where are in females,age group above 55 is doing least number of purchases"
   ]
  },
  {
   "cell_type": "code",
   "execution_count": 11,
   "id": "7eb48e56-4bf9-4485-b9ed-b2dcee8e856b",
   "metadata": {},
   "outputs": [
    {
     "data": {
      "text/plain": [
       "9410.337578108805"
      ]
     },
     "execution_count": 11,
     "metadata": {},
     "output_type": "execute_result"
    }
   ],
   "source": [
    "Male_purchases[Male_purchases[\"Age\"]==\"26-35\"][\"Purchase\"].mean()"
   ]
  },
  {
   "cell_type": "code",
   "execution_count": 12,
   "id": "4ce0daca-47b7-4851-b734-67f11f7d9387",
   "metadata": {},
   "outputs": [
    {
     "data": {
      "text/html": [
       "<div>\n",
       "<style scoped>\n",
       "    .dataframe tbody tr th:only-of-type {\n",
       "        vertical-align: middle;\n",
       "    }\n",
       "\n",
       "    .dataframe tbody tr th {\n",
       "        vertical-align: top;\n",
       "    }\n",
       "\n",
       "    .dataframe thead th {\n",
       "        text-align: right;\n",
       "    }\n",
       "</style>\n",
       "<table border=\"1\" class=\"dataframe\">\n",
       "  <thead>\n",
       "    <tr style=\"text-align: right;\">\n",
       "      <th></th>\n",
       "      <th>Purchase</th>\n",
       "    </tr>\n",
       "    <tr>\n",
       "      <th>Age</th>\n",
       "      <th></th>\n",
       "    </tr>\n",
       "  </thead>\n",
       "  <tbody>\n",
       "    <tr>\n",
       "      <th>0-17</th>\n",
       "      <td>9235.173670</td>\n",
       "    </tr>\n",
       "    <tr>\n",
       "      <th>18-25</th>\n",
       "      <td>9440.942971</td>\n",
       "    </tr>\n",
       "    <tr>\n",
       "      <th>26-35</th>\n",
       "      <td>9410.337578</td>\n",
       "    </tr>\n",
       "    <tr>\n",
       "      <th>36-45</th>\n",
       "      <td>9453.193643</td>\n",
       "    </tr>\n",
       "    <tr>\n",
       "      <th>46-50</th>\n",
       "      <td>9357.471509</td>\n",
       "    </tr>\n",
       "    <tr>\n",
       "      <th>51-55</th>\n",
       "      <td>9705.094802</td>\n",
       "    </tr>\n",
       "    <tr>\n",
       "      <th>55+</th>\n",
       "      <td>9438.195603</td>\n",
       "    </tr>\n",
       "  </tbody>\n",
       "</table>\n",
       "</div>"
      ],
      "text/plain": [
       "          Purchase\n",
       "Age               \n",
       "0-17   9235.173670\n",
       "18-25  9440.942971\n",
       "26-35  9410.337578\n",
       "36-45  9453.193643\n",
       "46-50  9357.471509\n",
       "51-55  9705.094802\n",
       "55+    9438.195603"
      ]
     },
     "execution_count": 12,
     "metadata": {},
     "output_type": "execute_result"
    }
   ],
   "source": [
    "Male_age_group=Male_purchases.groupby(\"Age\").agg({\"Purchase\":\"mean\"})\n",
    "Male_age_group"
   ]
  },
  {
   "cell_type": "code",
   "execution_count": 13,
   "id": "b53c2f2f-04db-4762-9e59-1a1dd3e5acf5",
   "metadata": {},
   "outputs": [
    {
     "data": {
      "image/png": "[encoded data removed]",
      "text/plain": [
       "<Figure size 432x288 with 1 Axes>"
      ]
     },
     "metadata": {
      "needs_background": "light"
     },
     "output_type": "display_data"
    }
   ],
   "source": [
    "x=Male_age_group.index\n",
    "y=Male_age_group[\"Purchase\"]\n",
    "plt.bar(x,y)\n",
    "plt.xticks(rotation=0)\n",
    "plt.show()"
   ]
  },
  {
   "cell_type": "markdown",
   "id": "2880ef8a-1425-4adc-8cf8-6f30e5c9f87a",
   "metadata": {},
   "source": [
    "- Males of all age groups are spending an average of minimum of 9000"
   ]
  },
  {
   "cell_type": "code",
   "execution_count": 14,
   "id": "5d60b608-7025-4731-8b0b-c258e0e69136",
   "metadata": {},
   "outputs": [
    {
     "data": {
      "text/html": [
       "<div>\n",
       "<style scoped>\n",
       "    .dataframe tbody tr th:only-of-type {\n",
       "        vertical-align: middle;\n",
       "    }\n",
       "\n",
       "    .dataframe tbody tr th {\n",
       "        vertical-align: top;\n",
       "    }\n",
       "\n",
       "    .dataframe thead th {\n",
       "        text-align: right;\n",
       "    }\n",
       "</style>\n",
       "<table border=\"1\" class=\"dataframe\">\n",
       "  <thead>\n",
       "    <tr style=\"text-align: right;\">\n",
       "      <th></th>\n",
       "      <th>Purchase</th>\n",
       "    </tr>\n",
       "    <tr>\n",
       "      <th>Age</th>\n",
       "      <th></th>\n",
       "    </tr>\n",
       "  </thead>\n",
       "  <tbody>\n",
       "    <tr>\n",
       "      <th>0-17</th>\n",
       "      <td>8338.771985</td>\n",
       "    </tr>\n",
       "    <tr>\n",
       "      <th>18-25</th>\n",
       "      <td>8343.180201</td>\n",
       "    </tr>\n",
       "    <tr>\n",
       "      <th>26-35</th>\n",
       "      <td>8728.251754</td>\n",
       "    </tr>\n",
       "    <tr>\n",
       "      <th>36-45</th>\n",
       "      <td>8959.844056</td>\n",
       "    </tr>\n",
       "    <tr>\n",
       "      <th>46-50</th>\n",
       "      <td>8842.098947</td>\n",
       "    </tr>\n",
       "    <tr>\n",
       "      <th>51-55</th>\n",
       "      <td>9042.449666</td>\n",
       "    </tr>\n",
       "    <tr>\n",
       "      <th>55+</th>\n",
       "      <td>9007.036199</td>\n",
       "    </tr>\n",
       "  </tbody>\n",
       "</table>\n",
       "</div>"
      ],
      "text/plain": [
       "          Purchase\n",
       "Age               \n",
       "0-17   8338.771985\n",
       "18-25  8343.180201\n",
       "26-35  8728.251754\n",
       "36-45  8959.844056\n",
       "46-50  8842.098947\n",
       "51-55  9042.449666\n",
       "55+    9007.036199"
      ]
     },
     "execution_count": 14,
     "metadata": {},
     "output_type": "execute_result"
    }
   ],
   "source": [
    "Female_age_group=Female_purchases.groupby(\"Age\").agg({\"Purchase\":\"mean\"})\n",
    "Female_age_group"
   ]
  },
  {
   "cell_type": "markdown",
   "id": "1bfa4c7b-5f56-461c-a775-e19cc8cde2ad",
   "metadata": {},
   "source": [
    "- Females of all age groups are spending an average of  maximum of 9000"
   ]
  },
  {
   "cell_type": "code",
   "execution_count": 15,
   "id": "d784846d-aa80-4538-bc22-623e405912ec",
   "metadata": {},
   "outputs": [
    {
     "data": {
      "image/png": "[encoded data removed]",
      "text/plain": [
       "<Figure size 432x288 with 1 Axes>"
      ]
     },
     "metadata": {
      "needs_background": "light"
     },
     "output_type": "display_data"
    }
   ],
   "source": [
    "x=Female_age_group.index\n",
    "y=Female_age_group[\"Purchase\"]\n",
    "plt.bar(x,y)\n",
    "plt.xticks(rotation=0)\n",
    "plt.show()"
   ]
  },
  {
   "cell_type": "code",
   "execution_count": 16,
   "id": "76d42034-8593-480b-ae63-f4e144085757",
   "metadata": {},
   "outputs": [
    {
     "data": {
      "image/png": "[encoded data removed]",
      "text/plain": [
       "<Figure size 432x288 with 2 Axes>"
      ]
     },
     "metadata": {
      "needs_background": "light"
     },
     "output_type": "display_data"
    }
   ],
   "source": [
    "df_heatplot = sns.heatmap(df.corr(), annot=True)"
   ]
  },
  {
   "cell_type": "markdown",
   "id": "6937efa3-345f-41ab-b206-33496e2d411f",
   "metadata": {},
   "source": [
    "#### Bootstrapping"
   ]
  },
  {
   "cell_type": "code",
   "execution_count": 20,
   "id": "689748da-82ec-4b82-b987-6ed5fe2b9f56",
   "metadata": {},
   "outputs": [],
   "source": [
    "Female_sample=Female_purchases[\"Purchase\"]"
   ]
  },
  {
   "cell_type": "code",
   "execution_count": 21,
   "id": "b2d3e710-9b76-400b-949d-ec9f4198049e",
   "metadata": {},
   "outputs": [
    {
     "data": {
      "text/plain": [
       "0          8370\n",
       "1         15200\n",
       "2          1422\n",
       "3          1057\n",
       "14         5378\n",
       "          ...  \n",
       "550061      599\n",
       "550064      371\n",
       "550065      137\n",
       "550066      365\n",
       "550067      490\n",
       "Name: Purchase, Length: 135809, dtype: int64"
      ]
     },
     "execution_count": 21,
     "metadata": {},
     "output_type": "execute_result"
    }
   ],
   "source": [
    "Female_sample"
   ]
  },
  {
   "cell_type": "code",
   "execution_count": 30,
   "id": "0736ce5b-0827-4f3b-b456-d386b9c0ed42",
   "metadata": {},
   "outputs": [],
   "source": [
    "bootstrapped_female_mean_survey=[]\n",
    "for reps in range(5000):\n",
    "    bootstrapped_female_samples=np.random.choice(Female_sample,size=1000)\n",
    "    bootstrapped_female_mean=np.mean(bootstrapped_female_samples)\n",
    "    bootstrapped_female_mean_survey.append(bootstrapped_female_mean)\n"
   ]
  },
  {
   "cell_type": "code",
   "execution_count": 29,
   "id": "64223957-33e7-49af-ad1a-b8c8b7d078b8",
   "metadata": {},
   "outputs": [],
   "source": [
    "# bootstrapped_female_mean_survey"
   ]
  },
  {
   "cell_type": "code",
   "execution_count": 31,
   "id": "3f6b0e3a-53cf-4029-8f3f-281876c30169",
   "metadata": {},
   "outputs": [
    {
     "data": {
      "text/plain": [
       "<AxesSubplot:ylabel='Count'>"
      ]
     },
     "execution_count": 31,
     "metadata": {},
     "output_type": "execute_result"
    },
    {
     "data": {
      "image/png": "[encoded data removed]",
      "text/plain": [
       "<Figure size 432x288 with 1 Axes>"
      ]
     },
     "metadata": {
      "needs_background": "light"
     },
     "output_type": "display_data"
    }
   ],
   "source": [
    "sns.histplot(bootstrapped_female_mean_survey)"
   ]
  },
  {
   "cell_type": "code",
   "execution_count": 32,
   "id": "24e23f37-90b9-41e2-85ee-51070cdb760a",
   "metadata": {},
   "outputs": [
    {
     "data": {
      "text/plain": [
       "array([8162.693, 9264.335])"
      ]
     },
     "execution_count": 32,
     "metadata": {},
     "output_type": "execute_result"
    }
   ],
   "source": [
    "np.percentile(bootstrapped_female_mean_survey,[0,100])"
   ]
  },
  {
   "cell_type": "code",
   "execution_count": 35,
   "id": "a5e01b69-9f68-4de2-b3c3-860b3e316aa4",
   "metadata": {},
   "outputs": [
    {
     "data": {
      "text/plain": [
       "array([8357.15461, 9130.10057])"
      ]
     },
     "execution_count": 35,
     "metadata": {},
     "output_type": "execute_result"
    }
   ],
   "source": [
    "np.percentile(bootstrapped_female_mean_survey,[0.5,99.5])"
   ]
  },
  {
   "cell_type": "code",
   "execution_count": 33,
   "id": "c419f523-b657-4a63-ab1d-1b695f1a75c2",
   "metadata": {},
   "outputs": [
    {
     "data": {
      "text/plain": [
       "array([8434.285775, 9026.281475])"
      ]
     },
     "execution_count": 33,
     "metadata": {},
     "output_type": "execute_result"
    }
   ],
   "source": [
    "np.percentile(bootstrapped_female_mean_survey,[2.5,97.5])"
   ]
  },
  {
   "cell_type": "code",
   "execution_count": 34,
   "id": "414c043f-c1ec-4123-8a18-d6f347eb0626",
   "metadata": {},
   "outputs": [
    {
     "data": {
      "text/plain": [
       "array([8486.3995, 8980.1579])"
      ]
     },
     "execution_count": 34,
     "metadata": {},
     "output_type": "execute_result"
    }
   ],
   "source": [
    "np.percentile(bootstrapped_female_mean_survey,[5,95])"
   ]
  },
  {
   "cell_type": "code",
   "execution_count": 36,
   "id": "01a4cde3-2c05-44eb-b00f-e380af29ebb1",
   "metadata": {},
   "outputs": [],
   "source": [
    "Male_sample=Male_purchases[\"Purchase\"]"
   ]
  },
  {
   "cell_type": "code",
   "execution_count": 37,
   "id": "8e2b0295-a88f-4efd-8ae1-616005998fd7",
   "metadata": {},
   "outputs": [
    {
     "data": {
      "text/plain": [
       "4          7969\n",
       "5         15227\n",
       "6         19215\n",
       "7         15854\n",
       "8         15686\n",
       "          ...  \n",
       "550057       61\n",
       "550058      121\n",
       "550060      494\n",
       "550062      473\n",
       "550063      368\n",
       "Name: Purchase, Length: 414259, dtype: int64"
      ]
     },
     "execution_count": 37,
     "metadata": {},
     "output_type": "execute_result"
    }
   ],
   "source": [
    "Male_sample"
   ]
  },
  {
   "cell_type": "code",
   "execution_count": 38,
   "id": "663c12f2-864e-429f-93ff-d599497dc401",
   "metadata": {},
   "outputs": [],
   "source": [
    "bootstrapped_male_mean_survey=[]\n",
    "for reps in range(5000):\n",
    "    bootstrapped_male_samples=np.random.choice(Male_sample,size=1000)\n",
    "    bootstrapped_male_mean=np.mean(bootstrapped_male_samples)\n",
    "    bootstrapped_male_mean_survey.append(bootstrapped_male_mean)\n"
   ]
  },
  {
   "cell_type": "code",
   "execution_count": 42,
   "id": "cf08d4c9-7e87-4cae-9837-1132a8d459d7",
   "metadata": {},
   "outputs": [
    {
     "data": {
      "text/plain": [
       "<AxesSubplot:ylabel='Count'>"
      ]
     },
     "execution_count": 42,
     "metadata": {},
     "output_type": "execute_result"
    },
    {
     "data": {
      "image/png": "[encoded data removed]",
      "text/plain": [
       "<Figure size 432x288 with 1 Axes>"
      ]
     },
     "metadata": {
      "needs_background": "light"
     },
     "output_type": "display_data"
    }
   ],
   "source": [
    "sns.histplot(bootstrapped_male_mean_survey)"
   ]
  },
  {
   "cell_type": "code",
   "execution_count": 43,
   "id": "370a0e96-6656-477d-b80e-94ca4587d7cb",
   "metadata": {},
   "outputs": [
    {
     "data": {
      "text/plain": [
       "array([ 8863.907, 10027.366])"
      ]
     },
     "execution_count": 43,
     "metadata": {},
     "output_type": "execute_result"
    }
   ],
   "source": [
    "np.percentile(bootstrapped_male_mean_survey,[0,100])"
   ]
  },
  {
   "cell_type": "code",
   "execution_count": 44,
   "id": "695f090b-0819-48e9-a0cf-984ae338c064",
   "metadata": {},
   "outputs": [
    {
     "data": {
      "text/plain": [
       "array([9048.61275, 9846.00857])"
      ]
     },
     "execution_count": 44,
     "metadata": {},
     "output_type": "execute_result"
    }
   ],
   "source": [
    "np.percentile(bootstrapped_male_mean_survey,[0.5,99.5])"
   ]
  },
  {
   "cell_type": "code",
   "execution_count": 46,
   "id": "b8c5370b-38c6-4166-b45c-3a593c733d07",
   "metadata": {},
   "outputs": [
    {
     "data": {
      "text/plain": [
       "array([9127.8587  , 9754.686475])"
      ]
     },
     "execution_count": 46,
     "metadata": {},
     "output_type": "execute_result"
    }
   ],
   "source": [
    "np.percentile(bootstrapped_male_mean_survey,[2.5,97.5])"
   ]
  },
  {
   "cell_type": "code",
   "execution_count": 47,
   "id": "9edb94eb-63d7-4360-9617-0a7b115e7cc6",
   "metadata": {},
   "outputs": [
    {
     "data": {
      "text/plain": [
       "array([9175.98925, 9701.87495])"
      ]
     },
     "execution_count": 47,
     "metadata": {},
     "output_type": "execute_result"
    }
   ],
   "source": [
    "np.percentile(bootstrapped_male_mean_survey,[5,95])"
   ]
  },
  {
   "cell_type": "markdown",
   "id": "a2be50e4-9e11-4814-8687-b3d2229d9eae",
   "metadata": {},
   "source": [
    "- Average purchase amount by Female=8734.565765155476\n",
    "- Average purchase amount by Male=9437.526040472265\n",
    "- 100% CI-Female-[8162.693, 9264.335]\n",
    "- 100% CI-Male-[ 8863.907, 10027.366]\n",
    "- 99% CI-Female-[8357.15461, 9130.10057]\n",
    "- 99% CI-Male-[9048.61275, 9846.00857]\n",
    "- 95% CI-Female-[8434.285775, 9026.281475]\n",
    "- 95% CI-Male-[9127.8587  , 9754.686475]\n",
    "- 90% CI-Female-[8486.3995, 8980.1579]\n",
    "- 90% CI-Male-[9175.98925, 9701.87495]"
   ]
  },
  {
   "cell_type": "code",
   "execution_count": 48,
   "id": "d292dd5f-a180-4d87-ab9e-22745bbdd59e",
   "metadata": {},
   "outputs": [],
   "source": [
    "Married=df[df[\"Marital_Status\"]==1]"
   ]
  },
  {
   "cell_type": "code",
   "execution_count": 143,
   "id": "b650b6b6-2cd9-4980-a6c6-8fb700245c37",
   "metadata": {},
   "outputs": [
    {
     "data": {
      "text/plain": [
       "9261.174574082374"
      ]
     },
     "execution_count": 143,
     "metadata": {},
     "output_type": "execute_result"
    }
   ],
   "source": [
    "Married_avg_purchase=Married[\"Purchase\"].mean()\n",
    "Married_avg_purchase"
   ]
  },
  {
   "cell_type": "code",
   "execution_count": 51,
   "id": "521d55a6-21ef-40be-a1d9-803cf9ea16fa",
   "metadata": {},
   "outputs": [],
   "source": [
    "Married_sample=Married[\"Purchase\"]"
   ]
  },
  {
   "cell_type": "code",
   "execution_count": 52,
   "id": "459115d4-e55c-45c2-9f42-561e63e6601a",
   "metadata": {},
   "outputs": [],
   "source": [
    "bootstrapped_married_mean_survey=[]\n",
    "for reps in range(5000):\n",
    "    bootstrapped_married_samples=np.random.choice(Married_sample,size=1000)\n",
    "    bootstrapped_married_mean=np.mean(bootstrapped_married_samples)\n",
    "    bootstrapped_married_mean_survey.append(bootstrapped_married_mean)"
   ]
  },
  {
   "cell_type": "code",
   "execution_count": 53,
   "id": "8cc583b2-f150-458f-9fa8-e3496ffd2325",
   "metadata": {},
   "outputs": [
    {
     "data": {
      "text/plain": [
       "<AxesSubplot:ylabel='Count'>"
      ]
     },
     "execution_count": 53,
     "metadata": {},
     "output_type": "execute_result"
    },
    {
     "data": {
      "image/png": "[encoded data removed]",
      "text/plain": [
       "<Figure size 432x288 with 1 Axes>"
      ]
     },
     "metadata": {
      "needs_background": "light"
     },
     "output_type": "display_data"
    }
   ],
   "source": [
    "sns.histplot(bootstrapped_married_mean_survey)"
   ]
  },
  {
   "cell_type": "code",
   "execution_count": 58,
   "id": "39cbd21a-9d9c-4eee-ab73-723a859ff5c0",
   "metadata": {},
   "outputs": [
    {
     "data": {
      "text/plain": [
       "array([8673.473, 9826.159])"
      ]
     },
     "execution_count": 58,
     "metadata": {},
     "output_type": "execute_result"
    }
   ],
   "source": [
    "np.percentile(bootstrapped_married_mean_survey,[0,100])"
   ]
  },
  {
   "cell_type": "code",
   "execution_count": 59,
   "id": "c7840355-e3f3-4661-8a89-120722f15bec",
   "metadata": {},
   "outputs": [
    {
     "data": {
      "text/plain": [
       "array([8868.015895, 9664.99103 ])"
      ]
     },
     "execution_count": 59,
     "metadata": {},
     "output_type": "execute_result"
    }
   ],
   "source": [
    "np.percentile(bootstrapped_married_mean_survey,[0.5,99.5])"
   ]
  },
  {
   "cell_type": "code",
   "execution_count": 60,
   "id": "fc2de8f8-fc37-4cf1-895e-110be2cc26ce",
   "metadata": {},
   "outputs": [
    {
     "data": {
      "text/plain": [
       "array([8956.187825, 9577.8229  ])"
      ]
     },
     "execution_count": 60,
     "metadata": {},
     "output_type": "execute_result"
    }
   ],
   "source": [
    "np.percentile(bootstrapped_married_mean_survey,[2.5,97.5])"
   ]
  },
  {
   "cell_type": "code",
   "execution_count": 61,
   "id": "bd30fa46-5596-415c-979e-f922d248fb42",
   "metadata": {},
   "outputs": [
    {
     "data": {
      "text/plain": [
       "array([9006.11795, 9520.641  ])"
      ]
     },
     "execution_count": 61,
     "metadata": {},
     "output_type": "execute_result"
    }
   ],
   "source": [
    "np.percentile(bootstrapped_married_mean_survey,[5,95])"
   ]
  },
  {
   "cell_type": "code",
   "execution_count": 62,
   "id": "dcb4c91b-e7ee-4a36-a280-a0de71ee4e30",
   "metadata": {},
   "outputs": [],
   "source": [
    "Unmarried=df[df[\"Marital_Status\"]==0]"
   ]
  },
  {
   "cell_type": "code",
   "execution_count": 142,
   "id": "7a3e337d-f062-41ba-b323-486868cded16",
   "metadata": {},
   "outputs": [
    {
     "data": {
      "text/plain": [
       "9265.907618921507"
      ]
     },
     "execution_count": 142,
     "metadata": {},
     "output_type": "execute_result"
    }
   ],
   "source": [
    "Unmarried_avg_purchase=Unmarried[\"Purchase\"].mean()\n",
    "Unmarried_avg_purchase"
   ]
  },
  {
   "cell_type": "code",
   "execution_count": 63,
   "id": "e82a23cb-228d-4602-aacc-b8297b18a188",
   "metadata": {},
   "outputs": [],
   "source": [
    "Unmarried_sample=Unmarried[\"Purchase\"]"
   ]
  },
  {
   "cell_type": "code",
   "execution_count": 64,
   "id": "f6137b3d-ac14-4dc6-b324-8e87e0ad25cd",
   "metadata": {},
   "outputs": [],
   "source": [
    "bootstrapped_unmarried_mean_survey=[]\n",
    "for reps in range(5000):\n",
    "    bootstrapped_unmarried_samples=np.random.choice(Unmarried_sample,size=1000)\n",
    "    bootstrapped_unmarried_mean=np.mean(bootstrapped_unmarried_samples)\n",
    "    bootstrapped_unmarried_mean_survey.append(bootstrapped_unmarried_mean)"
   ]
  },
  {
   "cell_type": "code",
   "execution_count": 66,
   "id": "bf9dadc8-bfbf-472c-a38f-8d966fa3ecb5",
   "metadata": {},
   "outputs": [
    {
     "data": {
      "text/plain": [
       "<AxesSubplot:ylabel='Count'>"
      ]
     },
     "execution_count": 66,
     "metadata": {},
     "output_type": "execute_result"
    },
    {
     "data": {
      "image/png": "[encoded data removed]",
      "text/plain": [
       "<Figure size 432x288 with 1 Axes>"
      ]
     },
     "metadata": {
      "needs_background": "light"
     },
     "output_type": "display_data"
    }
   ],
   "source": [
    "sns.histplot(bootstrapped_unmarried_mean_survey)"
   ]
  },
  {
   "cell_type": "code",
   "execution_count": 67,
   "id": "b713c1fd-2aa0-4b0b-89a9-3783e0b7c15b",
   "metadata": {},
   "outputs": [
    {
     "data": {
      "text/plain": [
       "array([8650.12 , 9917.639])"
      ]
     },
     "execution_count": 67,
     "metadata": {},
     "output_type": "execute_result"
    }
   ],
   "source": [
    "np.percentile(bootstrapped_unmarried_mean_survey,[0,100])"
   ]
  },
  {
   "cell_type": "code",
   "execution_count": 68,
   "id": "3bc05a4f-82d6-4dbf-9568-72def5cd03de",
   "metadata": {},
   "outputs": [
    {
     "data": {
      "text/plain": [
       "array([8849.05853 , 9665.023455])"
      ]
     },
     "execution_count": 68,
     "metadata": {},
     "output_type": "execute_result"
    }
   ],
   "source": [
    "np.percentile(bootstrapped_unmarried_mean_survey,[0.5,99.5])"
   ]
  },
  {
   "cell_type": "code",
   "execution_count": 69,
   "id": "0c0546fc-5e6f-44a1-9dfc-7d8654b67415",
   "metadata": {},
   "outputs": [
    {
     "data": {
      "text/plain": [
       "array([8960.1891  , 9568.316675])"
      ]
     },
     "execution_count": 69,
     "metadata": {},
     "output_type": "execute_result"
    }
   ],
   "source": [
    "np.percentile(bootstrapped_unmarried_mean_survey,[2.5,97.5])"
   ]
  },
  {
   "cell_type": "code",
   "execution_count": 70,
   "id": "1262f37a-10b4-4d81-a763-81e696816f2d",
   "metadata": {},
   "outputs": [
    {
     "data": {
      "text/plain": [
       "array([9006.2514 , 9523.57225])"
      ]
     },
     "execution_count": 70,
     "metadata": {},
     "output_type": "execute_result"
    }
   ],
   "source": [
    "np.percentile(bootstrapped_unmarried_mean_survey,[5,95])"
   ]
  },
  {
   "cell_type": "markdown",
   "id": "81122f4c-a349-4313-a5b2-edd03ebcae75",
   "metadata": {},
   "source": [
    "- Average purchase amount by Unmarried=9265.907618921507\n",
    "- Average purchase amount by Married=9261.174574082374\n",
    "- 100% CI-Married-[8673.473, 9826.159]\n",
    "- 100% CI-Unmarried-[8650.12 , 9917.639]\n",
    "- 99% CI-Married-[8868.015895, 9664.99103]\n",
    "- 99% CI-Unmarried-[8849.05853 , 9665.023455]\n",
    "- 95% CI-Married-[8956.187825, 9577.8229]\n",
    "- 95% CI-Unmarried-[8960.1891  , 9568.316675]\n",
    "- 90% CI-Married-[9006.11795, 9520.641]\n",
    "- 90% CI-Unmarried-[9006.2514 , 9523.57225]"
   ]
  },
  {
   "cell_type": "code",
   "execution_count": 98,
   "id": "3be5e087-11d5-4e38-8b0b-ff5f6b4bc4e7",
   "metadata": {},
   "outputs": [],
   "source": [
    "Kids=df[df[\"Age\"]==\"0-17\"]\n",
    "Youth=df[df[\"Age\"]==\"18-25\"]\n",
    "Adult=df[df[\"Age\"]==\"26-35\"]\n",
    "Middle_aged=df[(df[\"Age\"]==\"36-45\")|(df[\"Age\"]==\"46-50\")]\n",
    "Seniors=df[(df[\"Age\"]==\"51-55\")|(df[\"Age\"]==\"55+\")]"
   ]
  },
  {
   "cell_type": "code",
   "execution_count": 144,
   "id": "f2bba9cd-7c09-4b4c-af8c-d0a268d2a35e",
   "metadata": {},
   "outputs": [
    {
     "data": {
      "text/plain": [
       "8933.464640444974"
      ]
     },
     "execution_count": 144,
     "metadata": {},
     "output_type": "execute_result"
    }
   ],
   "source": [
    "Average_purchase_amount_by_Kids=Kids[\"Purchase\"].mean()\n",
    "Average_purchase_amount_by_Kids"
   ]
  },
  {
   "cell_type": "code",
   "execution_count": 107,
   "id": "4278748e-fcfa-488f-87b1-5c9a11569597",
   "metadata": {},
   "outputs": [],
   "source": [
    "Kids_sample=Kids[\"Purchase\"]\n",
    "bootstrapped_Kids_mean_survey=[]\n",
    "for reps in range(5000):\n",
    "    bootstrapped_Kids_samples=np.random.choice(Kids_sample,size=1000)\n",
    "    bootstrapped_Kids_mean=np.mean(bootstrapped_Kids_samples)\n",
    "    bootstrapped_Kids_mean_survey.append(bootstrapped_Kids_mean)"
   ]
  },
  {
   "cell_type": "code",
   "execution_count": 108,
   "id": "0c44d5e3-b296-4c2b-bc6c-68630429249e",
   "metadata": {},
   "outputs": [
    {
     "data": {
      "text/plain": [
       "<AxesSubplot:ylabel='Count'>"
      ]
     },
     "execution_count": 108,
     "metadata": {},
     "output_type": "execute_result"
    },
    {
     "data": {
      "image/png": "[encoded data removed]",
      "text/plain": [
       "<Figure size 432x288 with 1 Axes>"
      ]
     },
     "metadata": {
      "needs_background": "light"
     },
     "output_type": "display_data"
    }
   ],
   "source": [
    "sns.histplot(bootstrapped_Kids_mean_survey)"
   ]
  },
  {
   "cell_type": "code",
   "execution_count": 109,
   "id": "84fa6b14-3640-4acd-abb4-6b6af6da06b0",
   "metadata": {},
   "outputs": [
    {
     "data": {
      "text/plain": [
       "array([8354.282, 9563.265])"
      ]
     },
     "execution_count": 109,
     "metadata": {},
     "output_type": "execute_result"
    }
   ],
   "source": [
    "np.percentile(bootstrapped_Kids_mean_survey,[0,100])"
   ]
  },
  {
   "cell_type": "code",
   "execution_count": 110,
   "id": "4cf9c071-dc59-4e17-9e67-ea8189eca212",
   "metadata": {},
   "outputs": [
    {
     "data": {
      "text/plain": [
       "array([8498.962145, 9390.677945])"
      ]
     },
     "execution_count": 110,
     "metadata": {},
     "output_type": "execute_result"
    }
   ],
   "source": [
    "np.percentile(bootstrapped_Kids_mean_survey,[0.5,99.5])"
   ]
  },
  {
   "cell_type": "code",
   "execution_count": 111,
   "id": "884c4646-6772-404f-bb5e-605fa0c0e15b",
   "metadata": {},
   "outputs": [
    {
     "data": {
      "text/plain": [
       "array([8606.3278, 9251.7363])"
      ]
     },
     "execution_count": 111,
     "metadata": {},
     "output_type": "execute_result"
    }
   ],
   "source": [
    "np.percentile(bootstrapped_Kids_mean_survey,[2.5,97.5])"
   ]
  },
  {
   "cell_type": "code",
   "execution_count": 112,
   "id": "fd15ec4e-3d55-4efa-8c12-e73be644ef30",
   "metadata": {},
   "outputs": [
    {
     "data": {
      "text/plain": [
       "array([8657.53895, 9195.7602 ])"
      ]
     },
     "execution_count": 112,
     "metadata": {},
     "output_type": "execute_result"
    }
   ],
   "source": [
    "np.percentile(bootstrapped_Kids_mean_survey,[5,95])"
   ]
  },
  {
   "cell_type": "code",
   "execution_count": 113,
   "id": "380df1ad-32f4-4f37-a503-ec504d03d0eb",
   "metadata": {},
   "outputs": [],
   "source": [
    "Youth_sample=Youth[\"Purchase\"]"
   ]
  },
  {
   "cell_type": "code",
   "execution_count": 145,
   "id": "968815c5-c077-4872-b6ef-f20400dcdf9c",
   "metadata": {},
   "outputs": [
    {
     "data": {
      "text/plain": [
       "9169.663606261289"
      ]
     },
     "execution_count": 145,
     "metadata": {},
     "output_type": "execute_result"
    }
   ],
   "source": [
    "Average_purchase_amount_by_Youth=Youth[\"Purchase\"].mean()\n",
    "Average_purchase_amount_by_Youth"
   ]
  },
  {
   "cell_type": "code",
   "execution_count": 114,
   "id": "9ce5bf35-890a-4f93-8253-f76fc21f893f",
   "metadata": {},
   "outputs": [],
   "source": [
    "bootstrapped_Youth_mean_survey=[]\n",
    "for reps in range(5000):\n",
    "    bootstrapped_Youth_samples=np.random.choice(Youth_sample,size=1000)\n",
    "    bootstrapped_Youth_mean=np.mean(bootstrapped_Youth_samples)\n",
    "    bootstrapped_Youth_mean_survey.append(bootstrapped_Youth_mean)"
   ]
  },
  {
   "cell_type": "code",
   "execution_count": 115,
   "id": "d76aa845-3f25-463b-8401-315306d185e6",
   "metadata": {},
   "outputs": [
    {
     "data": {
      "text/plain": [
       "<AxesSubplot:ylabel='Count'>"
      ]
     },
     "execution_count": 115,
     "metadata": {},
     "output_type": "execute_result"
    },
    {
     "data": {
      "image/png": "[encoded data removed]",
      "text/plain": [
       "<Figure size 432x288 with 1 Axes>"
      ]
     },
     "metadata": {
      "needs_background": "light"
     },
     "output_type": "display_data"
    }
   ],
   "source": [
    "sns.histplot(bootstrapped_Youth_mean_survey)"
   ]
  },
  {
   "cell_type": "code",
   "execution_count": 116,
   "id": "7b6341e3-58c5-4e15-9c1e-bab54ad6bad9",
   "metadata": {},
   "outputs": [
    {
     "data": {
      "text/plain": [
       "array([8620.421, 9722.582])"
      ]
     },
     "execution_count": 116,
     "metadata": {},
     "output_type": "execute_result"
    }
   ],
   "source": [
    "np.percentile(bootstrapped_Youth_mean_survey,[0,100])"
   ]
  },
  {
   "cell_type": "code",
   "execution_count": 117,
   "id": "13ca6c3a-7181-4c32-82ca-b70f7bd54d04",
   "metadata": {},
   "outputs": [
    {
     "data": {
      "text/plain": [
       "array([8766.69614, 9590.29594])"
      ]
     },
     "execution_count": 117,
     "metadata": {},
     "output_type": "execute_result"
    }
   ],
   "source": [
    "np.percentile(bootstrapped_Youth_mean_survey,[0.5,99.5])"
   ]
  },
  {
   "cell_type": "code",
   "execution_count": 118,
   "id": "82a2330a-42a0-45d0-84ce-634d14ce5e3b",
   "metadata": {},
   "outputs": [
    {
     "data": {
      "text/plain": [
       "array([8870.53055, 9488.90365])"
      ]
     },
     "execution_count": 118,
     "metadata": {},
     "output_type": "execute_result"
    }
   ],
   "source": [
    "np.percentile(bootstrapped_Youth_mean_survey,[2.5,97.5])"
   ]
  },
  {
   "cell_type": "code",
   "execution_count": 119,
   "id": "4c50b60b-ff74-4d5f-90a6-86c7eb08c6ca",
   "metadata": {},
   "outputs": [
    {
     "data": {
      "text/plain": [
       "array([8915.60265, 9435.1068 ])"
      ]
     },
     "execution_count": 119,
     "metadata": {},
     "output_type": "execute_result"
    }
   ],
   "source": [
    "np.percentile(bootstrapped_Youth_mean_survey,[5,95])"
   ]
  },
  {
   "cell_type": "code",
   "execution_count": 120,
   "id": "2cdff018-a778-444e-8a1d-a6eb79ee3f2d",
   "metadata": {},
   "outputs": [],
   "source": [
    "Adult_sample=Adult[\"Purchase\"]"
   ]
  },
  {
   "cell_type": "code",
   "execution_count": 146,
   "id": "426f724a-3c6f-4a51-a438-650a06b6ba74",
   "metadata": {},
   "outputs": [
    {
     "data": {
      "text/plain": [
       "9252.690632869888"
      ]
     },
     "execution_count": 146,
     "metadata": {},
     "output_type": "execute_result"
    }
   ],
   "source": [
    "Average_purchase_amount_by_Adult=Adult[\"Purchase\"].mean()\n",
    "Average_purchase_amount_by_Adult"
   ]
  },
  {
   "cell_type": "code",
   "execution_count": 121,
   "id": "34f7e1c8-e5c2-49b9-b68a-0a320bb5d1c8",
   "metadata": {},
   "outputs": [],
   "source": [
    "bootstrapped_Adult_mean_survey=[]\n",
    "for reps in range(5000):\n",
    "    bootstrapped_Adult_samples=np.random.choice(Adult_sample,size=1000)\n",
    "    bootstrapped_Adult_mean=np.mean(bootstrapped_Adult_samples)\n",
    "    bootstrapped_Adult_mean_survey.append(bootstrapped_Adult_mean)"
   ]
  },
  {
   "cell_type": "code",
   "execution_count": 122,
   "id": "91e4c48d-fb27-4821-999d-5d5388fd0fb9",
   "metadata": {},
   "outputs": [
    {
     "data": {
      "text/plain": [
       "<AxesSubplot:ylabel='Count'>"
      ]
     },
     "execution_count": 122,
     "metadata": {},
     "output_type": "execute_result"
    },
    {
     "data": {
      "image/png": "[encoded data removed]",
      "text/plain": [
       "<Figure size 432x288 with 1 Axes>"
      ]
     },
     "metadata": {
      "needs_background": "light"
     },
     "output_type": "display_data"
    }
   ],
   "source": [
    "sns.histplot(bootstrapped_Adult_mean_survey)"
   ]
  },
  {
   "cell_type": "code",
   "execution_count": 123,
   "id": "27c14d13-e5ab-4651-9cfa-bdb19385ec54",
   "metadata": {},
   "outputs": [
    {
     "data": {
      "text/plain": [
       "array([8721.546, 9800.295])"
      ]
     },
     "execution_count": 123,
     "metadata": {},
     "output_type": "execute_result"
    }
   ],
   "source": [
    "np.percentile(bootstrapped_Adult_mean_survey,[0,100])"
   ]
  },
  {
   "cell_type": "code",
   "execution_count": 124,
   "id": "ea6c3a73-46e2-44b4-863f-d8441a2d3a75",
   "metadata": {},
   "outputs": [
    {
     "data": {
      "text/plain": [
       "array([8841.30993 , 9661.666255])"
      ]
     },
     "execution_count": 124,
     "metadata": {},
     "output_type": "execute_result"
    }
   ],
   "source": [
    "np.percentile(bootstrapped_Adult_mean_survey,[0.5,99.5])"
   ]
  },
  {
   "cell_type": "code",
   "execution_count": 125,
   "id": "b9027bdb-195e-458c-a295-6fe9b27f78bb",
   "metadata": {},
   "outputs": [
    {
     "data": {
      "text/plain": [
       "array([8941.092075, 9564.7298  ])"
      ]
     },
     "execution_count": 125,
     "metadata": {},
     "output_type": "execute_result"
    }
   ],
   "source": [
    "np.percentile(bootstrapped_Adult_mean_survey,[2.5,97.5])"
   ]
  },
  {
   "cell_type": "code",
   "execution_count": 126,
   "id": "53fd3bf9-aaf4-4f53-ab35-1675f5f57a62",
   "metadata": {},
   "outputs": [
    {
     "data": {
      "text/plain": [
       "array([8993.2574, 9512.9215])"
      ]
     },
     "execution_count": 126,
     "metadata": {},
     "output_type": "execute_result"
    }
   ],
   "source": [
    "np.percentile(bootstrapped_Adult_mean_survey,[5,95])"
   ]
  },
  {
   "cell_type": "code",
   "execution_count": 147,
   "id": "b04f1357-cb22-4328-9798-e789b87494e9",
   "metadata": {},
   "outputs": [
    {
     "data": {
      "text/plain": [
       "9295.331742810537"
      ]
     },
     "execution_count": 147,
     "metadata": {},
     "output_type": "execute_result"
    }
   ],
   "source": [
    "Middle_aged_sample=Middle_aged[\"Purchase\"]\n",
    "Average_purchase_amount_by_Middle_aged=Middle_aged[\"Purchase\"].mean()\n",
    "Average_purchase_amount_by_Middle_aged"
   ]
  },
  {
   "cell_type": "code",
   "execution_count": 128,
   "id": "36999826-6a8a-42dc-82e9-64998e0883a4",
   "metadata": {},
   "outputs": [],
   "source": [
    "bootstrapped_Middle_aged_mean_survey=[]\n",
    "for reps in range(5000):\n",
    "    bootstrapped_Middle_aged_samples=np.random.choice(Middle_aged_sample,size=1000)\n",
    "    bootstrapped_Middle_aged_mean=np.mean(bootstrapped_Middle_aged_samples)\n",
    "    bootstrapped_Middle_aged_mean_survey.append(bootstrapped_Middle_aged_mean)"
   ]
  },
  {
   "cell_type": "code",
   "execution_count": 129,
   "id": "870d8c37-4c6d-4281-998f-01d56469843f",
   "metadata": {},
   "outputs": [
    {
     "data": {
      "text/plain": [
       "<AxesSubplot:ylabel='Count'>"
      ]
     },
     "execution_count": 129,
     "metadata": {},
     "output_type": "execute_result"
    },
    {
     "data": {
      "image/png": "[encoded data removed]",
      "text/plain": [
       "<Figure size 432x288 with 1 Axes>"
      ]
     },
     "metadata": {
      "needs_background": "light"
     },
     "output_type": "display_data"
    }
   ],
   "source": [
    "sns.histplot(bootstrapped_Adult_mean_survey)"
   ]
  },
  {
   "cell_type": "code",
   "execution_count": 130,
   "id": "dec2d06b-5c61-4271-995e-2b96c600db6d",
   "metadata": {},
   "outputs": [
    {
     "data": {
      "text/plain": [
       "array([8768.69 , 9890.201])"
      ]
     },
     "execution_count": 130,
     "metadata": {},
     "output_type": "execute_result"
    }
   ],
   "source": [
    "np.percentile(bootstrapped_Middle_aged_mean_survey,[0,100])"
   ]
  },
  {
   "cell_type": "code",
   "execution_count": 131,
   "id": "35cbbe26-dc88-46d4-a82f-30c82318b0ca",
   "metadata": {},
   "outputs": [
    {
     "data": {
      "text/plain": [
       "array([8898.190635, 9709.43755 ])"
      ]
     },
     "execution_count": 131,
     "metadata": {},
     "output_type": "execute_result"
    }
   ],
   "source": [
    "np.percentile(bootstrapped_Middle_aged_mean_survey,[0.5,99.5])"
   ]
  },
  {
   "cell_type": "code",
   "execution_count": 132,
   "id": "93c110ad-a353-4697-9245-4fb157d07eab",
   "metadata": {},
   "outputs": [
    {
     "data": {
      "text/plain": [
       "array([8981.2715 , 9605.71245])"
      ]
     },
     "execution_count": 132,
     "metadata": {},
     "output_type": "execute_result"
    }
   ],
   "source": [
    "np.percentile(bootstrapped_Middle_aged_mean_survey,[2.5,97.5])"
   ]
  },
  {
   "cell_type": "code",
   "execution_count": 133,
   "id": "1a80586b-96a4-4b59-a14c-51b4011a19a6",
   "metadata": {},
   "outputs": [
    {
     "data": {
      "text/plain": [
       "array([9030.93575, 9563.10445])"
      ]
     },
     "execution_count": 133,
     "metadata": {},
     "output_type": "execute_result"
    }
   ],
   "source": [
    "np.percentile(bootstrapped_Middle_aged_mean_survey,[5,95])"
   ]
  },
  {
   "cell_type": "code",
   "execution_count": 275,
   "id": "dc8bbba8-2edb-4f50-8563-e82d8e9f30cf",
   "metadata": {},
   "outputs": [
    {
     "data": {
      "text/plain": [
       "9463.661678193484"
      ]
     },
     "execution_count": 275,
     "metadata": {},
     "output_type": "execute_result"
    }
   ],
   "source": [
    "Seniors_sample=Seniors[\"Purchase\"]\n",
    "Seniors_sample.mean()"
   ]
  },
  {
   "cell_type": "code",
   "execution_count": 135,
   "id": "dbc0b0b0-e9f5-4db1-8e71-ceed8ad27f23",
   "metadata": {},
   "outputs": [],
   "source": [
    "bootstrapped_Seniors_mean_survey=[]\n",
    "for reps in range(5000):\n",
    "    bootstrapped_Seniors_samples=np.random.choice(Seniors_sample,size=1000)\n",
    "    bootstrapped_Seniors_mean=np.mean(bootstrapped_Seniors_samples)\n",
    "    bootstrapped_Seniors_mean_survey.append(bootstrapped_Seniors_mean)"
   ]
  },
  {
   "cell_type": "code",
   "execution_count": 136,
   "id": "041f1927-23c8-475d-9188-eebc690c8c4a",
   "metadata": {},
   "outputs": [
    {
     "data": {
      "text/plain": [
       "<AxesSubplot:ylabel='Count'>"
      ]
     },
     "execution_count": 136,
     "metadata": {},
     "output_type": "execute_result"
    },
    {
     "data": {
      "image/png": "[encoded data removed]",
      "text/plain": [
       "<Figure size 432x288 with 1 Axes>"
      ]
     },
     "metadata": {
      "needs_background": "light"
     },
     "output_type": "display_data"
    }
   ],
   "source": [
    "sns.histplot(bootstrapped_Seniors_mean_survey)"
   ]
  },
  {
   "cell_type": "code",
   "execution_count": 137,
   "id": "b668805d-71ed-4014-a425-bee00c03cedb",
   "metadata": {},
   "outputs": [
    {
     "data": {
      "text/plain": [
       "array([ 8895.603, 10047.106])"
      ]
     },
     "execution_count": 137,
     "metadata": {},
     "output_type": "execute_result"
    }
   ],
   "source": [
    "np.percentile(bootstrapped_Seniors_mean_survey,[0,100])"
   ]
  },
  {
   "cell_type": "code",
   "execution_count": 138,
   "id": "b6ac5672-7061-435d-9ea8-00cdde74d8eb",
   "metadata": {},
   "outputs": [
    {
     "data": {
      "text/plain": [
       "array([9058.336965, 9885.305235])"
      ]
     },
     "execution_count": 138,
     "metadata": {},
     "output_type": "execute_result"
    }
   ],
   "source": [
    "np.percentile(bootstrapped_Seniors_mean_survey,[0.5,99.5])"
   ]
  },
  {
   "cell_type": "code",
   "execution_count": 139,
   "id": "a454f890-7ea1-4208-8dff-93097ab3367f",
   "metadata": {},
   "outputs": [
    {
     "data": {
      "text/plain": [
       "array([9152.864875, 9783.622225])"
      ]
     },
     "execution_count": 139,
     "metadata": {},
     "output_type": "execute_result"
    }
   ],
   "source": [
    "np.percentile(bootstrapped_Seniors_mean_survey,[2.5,97.5])"
   ]
  },
  {
   "cell_type": "code",
   "execution_count": 140,
   "id": "29098eac-17f8-48a7-a19e-d5ea69d404ba",
   "metadata": {},
   "outputs": [
    {
     "data": {
      "text/plain": [
       "array([9205.1241 , 9731.01905])"
      ]
     },
     "execution_count": 140,
     "metadata": {},
     "output_type": "execute_result"
    }
   ],
   "source": [
    "np.percentile(bootstrapped_Seniors_mean_survey,[5,95])"
   ]
  },
  {
   "cell_type": "markdown",
   "id": "6ec3c815-2c4f-4f08-809d-abd71bfae490",
   "metadata": {},
   "source": [
    "- Average purchase amount by Kids=8933.464640444974\n",
    "- Average purchase amount by Youth=9169.663606261289\n",
    "- Average purchase amount by Adult=9252.690632869888\n",
    "- Average purchase amount by Middle_aged=9295.331742810537\n",
    "- Average purchase amount by Seniors=9463.661678193484\n",
    "- 100% CI-Kids=[8354.282, 9563.265]\n",
    "- 100% CI-Youth=[8620.421, 9722.582]\n",
    "- 100% CI-Adult=[8721.546, 9800.295]\n",
    "- 100% CI-Middle_aged=[8768.69 , 9890.201]\n",
    "- 100% CI-Seniors=[ 8895.603, 10047.106]\n",
    "- 99% CI-Kids=[8498.962145, 9390.677945]\n",
    "- 99% CI-Youth=[8498.962145, 9390.677945]\n",
    "- 99% CI-Adult=[8841.30993 , 9661.666255]\n",
    "- 99% CI-Middle_aged=[8898.190635, 9709.43755 ]\n",
    "- 99% CI-Seniors=[9058.336965, 9885.305235]\n",
    "- 95% CI-Kids=[8606.3278, 9251.7363]\n",
    "- 95% CI-Youth=[8870.53055, 9488.90365]\n",
    "- 95% CI-Adult=[8941.092075, 9564.7298  ]\n",
    "- 95% CI-Middle_aged=[8981.2715 , 9605.71245]\n",
    "- 95% CI-Seniors=[9152.864875, 9783.622225]\n",
    "- 90% CI-Kids=[8657.53895, 9195.7602 ]\n",
    "- 90% CI-Youth=[8915.60265, 9435.1068 ]\n",
    "- 90% CI-Adult=[8993.2574, 9512.9215]\n",
    "- 90% CI-Middle_aged=[9030.93575, 9563.10445]\n",
    "- 90% CI-Seniors=[9205.1241 , 9731.01905]"
   ]
  },
  {
   "cell_type": "markdown",
   "id": "70827bc5-c7fa-4e87-95dc-04b439ea25a6",
   "metadata": {},
   "source": [
    "#### Central Limit Theorem"
   ]
  },
  {
   "cell_type": "code",
   "execution_count": 148,
   "id": "587fa282-4b84-40bd-9151-a3aa4f308dca",
   "metadata": {},
   "outputs": [],
   "source": [
    "Clt_male=df[df[\"Gender\"]==\"M\"]"
   ]
  },
  {
   "cell_type": "code",
   "execution_count": 150,
   "id": "bd203c8a-11ee-49cb-b872-71a2cb440080",
   "metadata": {},
   "outputs": [
    {
     "data": {
      "text/plain": [
       "4          7969\n",
       "5         15227\n",
       "6         19215\n",
       "7         15854\n",
       "8         15686\n",
       "          ...  \n",
       "550057       61\n",
       "550058      121\n",
       "550060      494\n",
       "550062      473\n",
       "550063      368\n",
       "Name: Purchase, Length: 414259, dtype: int64"
      ]
     },
     "execution_count": 150,
     "metadata": {},
     "output_type": "execute_result"
    }
   ],
   "source": [
    "Clt_male_purchase=Clt_male[\"Purchase\"]\n",
    "Clt_male_purchase"
   ]
  },
  {
   "cell_type": "code",
   "execution_count": 151,
   "id": "31eb7c91-1ff2-4f18-9809-b9cc2430ef8b",
   "metadata": {},
   "outputs": [
    {
     "data": {
      "text/plain": [
       "9437.526040472265"
      ]
     },
     "execution_count": 151,
     "metadata": {},
     "output_type": "execute_result"
    }
   ],
   "source": [
    "Clt_male_purchase.mean()"
   ]
  },
  {
   "cell_type": "code",
   "execution_count": 172,
   "id": "8dd7a17a-701e-452f-b779-bf0cbab12041",
   "metadata": {},
   "outputs": [
    {
     "data": {
      "text/plain": [
       "7924.96"
      ]
     },
     "execution_count": 172,
     "metadata": {},
     "output_type": "execute_result"
    }
   ],
   "source": [
    "min(Sample_mean_trend)"
   ]
  },
  {
   "cell_type": "code",
   "execution_count": 173,
   "id": "bb3c0a36-c1a8-4da9-ab42-564f49d773fb",
   "metadata": {},
   "outputs": [
    {
     "data": {
      "text/plain": [
       "11030.23"
      ]
     },
     "execution_count": 173,
     "metadata": {},
     "output_type": "execute_result"
    }
   ],
   "source": [
    "max(Sample_mean_trend)"
   ]
  },
  {
   "cell_type": "code",
   "execution_count": 152,
   "id": "ae72f0be-1e01-4fa4-9d85-460936c6deb5",
   "metadata": {},
   "outputs": [
    {
     "data": {
      "text/plain": [
       "99547     15183\n",
       "415621     5614\n",
       "399703    19654\n",
       "11550     12999\n",
       "182236    13842\n",
       "Name: Purchase, dtype: int64"
      ]
     },
     "execution_count": 152,
     "metadata": {},
     "output_type": "execute_result"
    }
   ],
   "source": [
    "Clt_male[\"Purchase\"].sample(5)"
   ]
  },
  {
   "cell_type": "code",
   "execution_count": 206,
   "id": "f3e6ebfd-b03e-4d23-a499-5432b6e843f5",
   "metadata": {},
   "outputs": [
    {
     "data": {
      "text/plain": [
       "[<matplotlib.lines.Line2D at 0xd141ee31f0>]"
      ]
     },
     "execution_count": 206,
     "metadata": {},
     "output_type": "execute_result"
    },
    {
     "data": {
      "image/png": "[encoded data removed]",
      "text/plain": [
       "<Figure size 432x288 with 1 Axes>"
      ]
     },
     "metadata": {
      "needs_background": "light"
     },
     "output_type": "display_data"
    }
   ],
   "source": [
    "Sample_mean_trend=[]\n",
    "for purchase in range(2000):\n",
    "    sample=Clt_male[\"Purchase\"].sample(100)\n",
    "    sample_mean=np.mean(sample)\n",
    "    Sample_mean_trend.append(sample_mean)\n",
    "# plt.hist(Sample_mean_trend[0:], 20, normed=True)\n",
    "zscore = stats.zscore(Sample_mean_trend[0:])\n",
    "mu, sigma = np.mean(Sample_mean_trend), np.std(Sample_mean_trend)\n",
    "# s = np.random.normal(mu, sigma, 10000)\n",
    "# count, bins, ignored = plt.hist(s, 20, normed=True)\n",
    "x = np.linspace(7924.96, 11030.23, num=100)\n",
    "plt.plot(x, stats.norm.pdf(x, mu, sigma))"
   ]
  },
  {
   "cell_type": "code",
   "execution_count": 207,
   "id": "69221997-7884-4b8d-8963-85363592d692",
   "metadata": {},
   "outputs": [
    {
     "data": {
      "text/plain": [
       "9425.662800000007"
      ]
     },
     "execution_count": 207,
     "metadata": {},
     "output_type": "execute_result"
    }
   ],
   "source": [
    "mu=sum(Sample_mean_trend)/float(len(Sample_mean_trend))\n",
    "mu"
   ]
  },
  {
   "cell_type": "code",
   "execution_count": 208,
   "id": "82e106ec-a355-4dd4-be94-adb24d707474",
   "metadata": {},
   "outputs": [
    {
     "data": {
      "text/plain": [
       "210.7642275379102"
      ]
     },
     "execution_count": 208,
     "metadata": {},
     "output_type": "execute_result"
    }
   ],
   "source": [
    "std=mu/math.sqrt(2000)\n",
    "std"
   ]
  },
  {
   "cell_type": "code",
   "execution_count": 221,
   "id": "98068979-0096-47e9-b5b1-5df4998fe22f",
   "metadata": {},
   "outputs": [],
   "source": [
    "Z1=norm.ppf(0.005)\n",
    "Z2=norm.ppf(0.995)\n",
    "x1_99=mu+(Z1*std)\n",
    "x2_99=mu+(Z2*std)\n"
   ]
  },
  {
   "cell_type": "code",
   "execution_count": 222,
   "id": "9fb5f2e8-324b-4b6b-8106-c56c08839a74",
   "metadata": {},
   "outputs": [
    {
     "data": {
      "text/plain": [
       "8882.77012656801"
      ]
     },
     "execution_count": 222,
     "metadata": {},
     "output_type": "execute_result"
    }
   ],
   "source": [
    "x1_99"
   ]
  },
  {
   "cell_type": "code",
   "execution_count": 223,
   "id": "0d830eb2-e2e7-4bd6-86e1-beb9563a9d9b",
   "metadata": {},
   "outputs": [
    {
     "data": {
      "text/plain": [
       "9968.555473432005"
      ]
     },
     "execution_count": 223,
     "metadata": {},
     "output_type": "execute_result"
    }
   ],
   "source": [
    "x2_99"
   ]
  },
  {
   "cell_type": "code",
   "execution_count": 235,
   "id": "6d679a77-a848-4f08-991d-3c316aaea53c",
   "metadata": {},
   "outputs": [],
   "source": [
    "Z1=norm.ppf(0.05)\n",
    "Z2=norm.ppf(0.95)\n",
    "x1_90=mu+(Z1*std)\n",
    "x2_90=mu+(Z2*std)"
   ]
  },
  {
   "cell_type": "code",
   "execution_count": 236,
   "id": "28db9a95-261f-42e0-b681-b9c1ec41ee74",
   "metadata": {},
   "outputs": [
    {
     "data": {
      "text/plain": [
       "9078.98649590265"
      ]
     },
     "execution_count": 236,
     "metadata": {},
     "output_type": "execute_result"
    }
   ],
   "source": [
    "x1_90\n"
   ]
  },
  {
   "cell_type": "code",
   "execution_count": 237,
   "id": "a021ccb7-5553-4201-9887-915051bdb8c1",
   "metadata": {},
   "outputs": [
    {
     "data": {
      "text/plain": [
       "9772.339104097364"
      ]
     },
     "execution_count": 237,
     "metadata": {},
     "output_type": "execute_result"
    }
   ],
   "source": [
    "x2_90"
   ]
  },
  {
   "cell_type": "code",
   "execution_count": 238,
   "id": "a53adcd5-77e4-4e5f-9ff6-4bb05097e18f",
   "metadata": {},
   "outputs": [],
   "source": [
    "Z1=norm.ppf(0.025)\n",
    "Z2=norm.ppf(0.975)\n",
    "x1_95=mu+(Z1*std)\n",
    "x2_95=mu+(Z2*std) "
   ]
  },
  {
   "cell_type": "code",
   "execution_count": 239,
   "id": "08a85e3a-81f8-4b11-bd37-2183fa2e87d4",
   "metadata": {},
   "outputs": [
    {
     "data": {
      "text/plain": [
       "9012.572504796299"
      ]
     },
     "execution_count": 239,
     "metadata": {},
     "output_type": "execute_result"
    }
   ],
   "source": [
    "x1_95"
   ]
  },
  {
   "cell_type": "code",
   "execution_count": 240,
   "id": "d6b1de2e-28dd-4290-94b1-915348845057",
   "metadata": {},
   "outputs": [
    {
     "data": {
      "text/plain": [
       "9838.753095203716"
      ]
     },
     "execution_count": 240,
     "metadata": {},
     "output_type": "execute_result"
    }
   ],
   "source": [
    "x2_95"
   ]
  },
  {
   "cell_type": "code",
   "execution_count": 243,
   "id": "7ad10382-fc46-4f8f-bff7-3fbf7230e7bc",
   "metadata": {},
   "outputs": [],
   "source": [
    "Clt_female=df[df[\"Gender\"]==\"F\"]"
   ]
  },
  {
   "cell_type": "code",
   "execution_count": 246,
   "id": "2caa5bb3-4607-4f35-89fd-a49f8a4c55ec",
   "metadata": {},
   "outputs": [
    {
     "data": {
      "text/plain": [
       "7265.75"
      ]
     },
     "execution_count": 246,
     "metadata": {},
     "output_type": "execute_result"
    }
   ],
   "source": [
    "min(Sample_mean_trend_female)"
   ]
  },
  {
   "cell_type": "code",
   "execution_count": 248,
   "id": "8fe5b936-268b-4f46-b32f-058f1f53ae54",
   "metadata": {},
   "outputs": [
    {
     "data": {
      "text/plain": [
       "10428.33"
      ]
     },
     "execution_count": 248,
     "metadata": {},
     "output_type": "execute_result"
    }
   ],
   "source": [
    "max(Sample_mean_trend_female)"
   ]
  },
  {
   "cell_type": "code",
   "execution_count": 249,
   "id": "3f2c7b87-ce18-4196-8403-9f7a9d2134a1",
   "metadata": {},
   "outputs": [
    {
     "data": {
      "text/plain": [
       "[<matplotlib.lines.Line2D at 0xd141cc1070>]"
      ]
     },
     "execution_count": 249,
     "metadata": {},
     "output_type": "execute_result"
    },
    {
     "data": {
      "image/png": "[encoded data removed]",
      "text/plain": [
       "<Figure size 432x288 with 1 Axes>"
      ]
     },
     "metadata": {
      "needs_background": "light"
     },
     "output_type": "display_data"
    }
   ],
   "source": [
    "Sample_mean_trend_female=[]\n",
    "for purchase in range(2000):\n",
    "    sample=Clt_female[\"Purchase\"].sample(100)\n",
    "    sample_mean=np.mean(sample)\n",
    "    Sample_mean_trend_female.append(sample_mean)\n",
    "# plt.hist(Sample_mean_trend[0:], 20, normed=True)\n",
    "zscore_f = stats.zscore(Sample_mean_trend_female[0:])\n",
    "mu_f, sigma_f = np.mean(Sample_mean_trend_female), np.std(Sample_mean_trend_female)\n",
    "# s = np.random.normal(mu, sigma, 10000)\n",
    "# count, bins, ignored = plt.hist(s, 20, normed=True)\n",
    "x = np.linspace(7265.75, 10428.33, num=100)\n",
    "plt.plot(x, stats.norm.pdf(x, mu_f, sigma_f))"
   ]
  },
  {
   "cell_type": "code",
   "execution_count": 254,
   "id": "91507385-5842-44bb-beda-988dd6749ac4",
   "metadata": {},
   "outputs": [
    {
     "data": {
      "text/plain": [
       "8742.921810000002"
      ]
     },
     "execution_count": 254,
     "metadata": {},
     "output_type": "execute_result"
    }
   ],
   "source": [
    "mu_f=sum(Sample_mean_trend_female)/float(len(Sample_mean_trend))\n",
    "mu_f"
   ]
  },
  {
   "cell_type": "code",
   "execution_count": 255,
   "id": "28ee323a-fa50-4414-a02d-e76ace8aebb4",
   "metadata": {},
   "outputs": [
    {
     "data": {
      "text/plain": [
       "195.49767489125503"
      ]
     },
     "execution_count": 255,
     "metadata": {},
     "output_type": "execute_result"
    }
   ],
   "source": [
    "std_f=mu_f/math.sqrt(2000)\n",
    "std_f"
   ]
  },
  {
   "cell_type": "code",
   "execution_count": 260,
   "id": "90cf7068-6328-409b-8fe3-9843dc5a0458",
   "metadata": {},
   "outputs": [],
   "source": [
    "Z1=norm.ppf(0.005)\n",
    "Z2=norm.ppf(0.995)\n",
    "x1_99_f=mu_f+(Z1*std_f)\n",
    "x2_99_f=mu_f+(Z2*std_f)\n"
   ]
  },
  {
   "cell_type": "code",
   "execution_count": 261,
   "id": "991d9245-b9ca-4e52-9750-a19892917bd2",
   "metadata": {},
   "outputs": [
    {
     "data": {
      "text/plain": [
       "8239.35317023943"
      ]
     },
     "execution_count": 261,
     "metadata": {},
     "output_type": "execute_result"
    }
   ],
   "source": [
    "x1_99_f"
   ]
  },
  {
   "cell_type": "code",
   "execution_count": 262,
   "id": "0146784f-d5c8-4191-8d5f-dce471f470d6",
   "metadata": {},
   "outputs": [
    {
     "data": {
      "text/plain": [
       "9246.490449760573"
      ]
     },
     "execution_count": 262,
     "metadata": {},
     "output_type": "execute_result"
    }
   ],
   "source": [
    "x2_99_f"
   ]
  },
  {
   "cell_type": "code",
   "execution_count": 263,
   "id": "6c4bd3a0-08c4-4212-b55e-3d088d865067",
   "metadata": {},
   "outputs": [],
   "source": [
    "Z1=norm.ppf(0.05)\n",
    "Z2=norm.ppf(0.95)\n",
    "x1_90_f=mu_f+(Z1*std_f)\n",
    "x2_90_f=mu_f+(Z2*std_f)"
   ]
  },
  {
   "cell_type": "code",
   "execution_count": 264,
   "id": "042dca34-9ec0-4e5b-84bb-d6f960eb0a53",
   "metadata": {},
   "outputs": [
    {
     "data": {
      "text/plain": [
       "8421.356750394541"
      ]
     },
     "execution_count": 264,
     "metadata": {},
     "output_type": "execute_result"
    }
   ],
   "source": [
    "x1_90_f"
   ]
  },
  {
   "cell_type": "code",
   "execution_count": 265,
   "id": "f41bdd02-627a-4d5f-996e-0a5b219d97da",
   "metadata": {},
   "outputs": [
    {
     "data": {
      "text/plain": [
       "9064.486869605462"
      ]
     },
     "execution_count": 265,
     "metadata": {},
     "output_type": "execute_result"
    }
   ],
   "source": [
    "x2_90_f"
   ]
  },
  {
   "cell_type": "code",
   "execution_count": 266,
   "id": "d7127cd2-592d-40c5-b759-b4e685412268",
   "metadata": {},
   "outputs": [],
   "source": [
    "Z1=norm.ppf(0.025)\n",
    "Z2=norm.ppf(0.975)\n",
    "x1_95_f=mu_f+(Z1*std_f)\n",
    "x2_95_f=mu_f+(Z2*std_f)"
   ]
  },
  {
   "cell_type": "code",
   "execution_count": 267,
   "id": "c75a011a-d0e9-4ec9-ab9c-c8bb588ded45",
   "metadata": {},
   "outputs": [
    {
     "data": {
      "text/plain": [
       "8359.75340815182"
      ]
     },
     "execution_count": 267,
     "metadata": {},
     "output_type": "execute_result"
    }
   ],
   "source": [
    "x1_95_f"
   ]
  },
  {
   "cell_type": "code",
   "execution_count": 268,
   "id": "fd4f716f-8a51-42cd-843c-e85789da160c",
   "metadata": {},
   "outputs": [
    {
     "data": {
      "text/plain": [
       "9126.090211848183"
      ]
     },
     "execution_count": 268,
     "metadata": {},
     "output_type": "execute_result"
    }
   ],
   "source": [
    "x2_95_f"
   ]
  },
  {
   "cell_type": "markdown",
   "id": "4a4542e0-5d11-4ada-99fb-f474b3cc492c",
   "metadata": {},
   "source": [
    "## Average spending based on gender,age and marital status in different confidence intervals\n",
    "- Average purchase amount by Female=8742.921810000002\n",
    "- Average purchase amount by Male=9425.662800000007\n",
    "\n",
    "- 99% CI-Female-[8239.35317023943, 9246.490449760573]\n",
    "- 99% CI-Male-[8882.77012656801, 9968.555473432005]\n",
    "- 95% CI-Female-[8359.75340815182, 9126.090211848183]\n",
    "- 95% CI-Male-[9012.572504796299 , 9838.753095203716]\n",
    "- 90% CI-Female-[8421.356750394541, 9064.486869605462]\n",
    "- 90% CI-Male-[9078.98649590265, 9772.339104097364]"
   ]
  },
  {
   "cell_type": "markdown",
   "id": "91ea61b9-e518-4f37-a9ab-fac730710118",
   "metadata": {},
   "source": [
    "- Average purchase amount by Kids=8933.464640444974\n",
    "- Average purchase amount by Youth=9169.663606261289\n",
    "- Average purchase amount by Adult=9252.690632869888\n",
    "- Average purchase amount by Middle_aged=9295.331742810537\n",
    "- Average purchase amount by Seniors=\n",
    "- 100% CI-Kids=[8354.282, 9563.265]\n",
    "- 100% CI-Youth=[8620.421, 9722.582]\n",
    "- 100% CI-Adult=[8721.546, 9800.295]\n",
    "- 100% CI-Middle_aged=[8768.69 , 9890.201]\n",
    "- 100% CI-Seniors=[ 8895.603, 10047.106]\n",
    "- 99% CI-Kids=[8498.962145, 9390.677945]\n",
    "- 99% CI-Youth=[8766.69614, 9590.29594]\n",
    "- 99% CI-Adult=[8841.30993 , 9661.666255]\n",
    "- 99% CI-Middle_aged=[8898.190635, 9709.43755 ]\n",
    "- 99% CI-Seniors=[9058.336965, 9885.305235]\n",
    "- 95% CI-Kids=[8606.3278, 9251.7363]\n",
    "- 95% CI-Youth=[8870.53055, 9488.90365]\n",
    "- 95% CI-Adult=[8941.092075, 9564.7298  ]\n",
    "- 95% CI-Middle_aged=[8981.2715 , 9605.71245]\n",
    "- 95% CI-Seniors=[9152.864875, 9783.622225]\n",
    "- 90% CI-Kids=[8657.53895, 9195.7602 ]\n",
    "- 90% CI-Youth=[8915.60265, 9435.1068 ]\n",
    "- 90% CI-Adult=[8993.2574, 9512.9215]\n",
    "- 90% CI-Middle_aged=[9030.93575, 9563.10445]\n",
    "- 90% CI-Seniors=[9205.1241 , 9731.01905]"
   ]
  },
  {
   "cell_type": "markdown",
   "id": "3812afd2-6358-47ad-8014-9246497ea1b7",
   "metadata": {},
   "source": [
    "- Average purchase amount by Unmarried=9265.907618921507\n",
    "- Average purchase amount by Married=9261.174574082374\n",
    "- 100% CI-Married-[8673.473, 9826.159]\n",
    "- 100% CI-Unmarried-[8650.12 , 9917.639]\n",
    "- 99% CI-Married-[8868.015895, 9664.99103]\n",
    "- 99% CI-Unmarried-[8849.05853 , 9665.023455]\n",
    "- 95% CI-Married-[8956.187825, 9577.8229]\n",
    "- 95% CI-Unmarried-[8960.1891  , 9568.316675]\n",
    "- 90% CI-Married-[9006.11795, 9520.641]\n",
    "- 90% CI-Unmarried-[9006.2514 , 9523.57225]"
   ]
  },
  {
   "cell_type": "markdown",
   "id": "66a3075c-fe36-496a-9849-d362a73c7628",
   "metadata": {},
   "source": [
    "- Average purchase amount by Female=8734.565765155476\n",
    "- Average purchase amount by Male=9437.526040472265\n",
    "- 100% CI-Female-[8162.693, 9264.335]\n",
    "- 100% CI-Male-[ 8863.907, 10027.366]\n",
    "- 99% CI-Female-[8357.15461, 9130.10057]\n",
    "- 99% CI-Male-[9048.61275, 9846.00857]\n",
    "- 95% CI-Female-[8434.285775, 9026.281475]\n",
    "- 95% CI-Male-[9127.8587  , 9754.686475]\n",
    "- 90% CI-Female-[8486.3995, 8980.1579]\n",
    "- 90% CI-Male-[9175.98925, 9701.87495]"
   ]
  },
  {
   "cell_type": "markdown",
   "id": "30ff1ce7-2259-439f-96c7-927c2e134e19",
   "metadata": {},
   "source": [
    "- On an average women are spending less than men.The number o women below 17 and above are very less considered to men in the same group. This may be due to health or age restrictions.But when women of age above 51 are purchasing they are doing it in par with males of the same age.\n",
    "- Confidence intervals and distribution of the mean of the expenses by female and male customers- given above for confidence inetrvals of 90,95 and 99\n",
    "- confidence intervals of average male and female spending is not overlapping in 90% confidence interval only in bootstrapping method.\n",
    "- confidence intervals of average male and female spending is overlapping in 99% and 95% confidence interval only in CLT method.\n",
    "- confidence intervals of married and unmarried spending is overlapping all confidence intervals considered\n",
    "- confidence intervals of spending in kids and seniors are not overlapping in 90% confidence interval, all others are coinciding.But that is not something to be considered because most of the kids are accompanied by elders and the elders are the ones who are a part of the custonmer base.Still if we give good offers to kids they can turn out to be potential customers in the future as they grow up.\n",
    " "
   ]
  },
  {
   "cell_type": "markdown",
   "id": "ccdc941a-f483-4013-a758-2b51e5d209c5",
   "metadata": {},
   "source": [
    "## Recommendations\n",
    "- Walmart should try to increase the customer base of women by giving some special offers to females\n",
    "- There is a decline in count of customers who are living in the current city for more than 4 years. So walmart should give special offers to their older customers(in terms of time).\n",
    "- Also the decline in number of people who are used to the city can mean they have some other store that might be giving better products at a lesser rate. this should be considered and studied.\n",
    "- Similarly as the number of customers who are new to the city are also less, there should be some offers that customers can avail, when they visit a store for the first time. like a cash back for first purchase.\n",
    "- Females of age <17 and >55 are the least among customers. there should be some way to attract older women and girl kids to the store.Like by re-introducing the products that older women used to love when they were younger or make them nostalgic\n",
    "- The reason of less women customers may be due to the fact that men might be paying and their details getting into the database. Usually memeberships are taken from only one family member and that are geneally men.So motivate women to take memberships and give good customer services and safe environment that women encouraged to buy more.\n",
    "- Give menbership to kids as they are potential customers of future."
   ]
  },
  {
   "cell_type": "markdown",
   "id": "cc840c6c-012b-4d4a-9ef3-d60b414ef118",
   "metadata": {},
   "source": [
    "## Business Insights based on Non- Graphical and Visual Analysis \n",
    "- User IDs are unique in all the rows(No duplicates)\n",
    "- There are 550068 products sold and there are 3631 unique products in them\n",
    "- Out of 550068 customers, 414259 are male(75.31%)\n",
    "- Customers are categorised in 7 age groups and in that customers between age 26-35 have done most of the pirchases. 219587 out of 550068(39.91%)\n",
    "- Cities  are categorised into A,B and C and 231173 out of 550068 purchases happened in city category-B (42.02%)\n",
    "- Stay in current city is the number of years customers have been staying in the city where purchase is done and the possible values are 0,1,2,3 and 4+ years\n",
    "- 324731 customers are unmarried and 225337 are married\n",
    "- All the 3631 unique products have been categorised into 20 unique product categories and are denoted by numbers from 1 to 20 \n",
    "- Minimum amount of puchase is 12 and Maximum is 23961 with 9263 as mean puchase amount\n",
    "- when the purchase average is considered with gender  as well as age group, there is a clear boundary between females and males. Among women maximum is spent by women between 51-5 and that comes around 9042 and the minimum among men in age between 0-17 and its 9235. So the clear distinction in average spending can be seen."
   ]
  },
  {
   "cell_type": "markdown",
   "id": "f96f57b2-2432-4f8a-bf2c-6cdeecb923b6",
   "metadata": {},
   "source": [
    "#### insights on outliers are given under corresponding analyses above"
   ]
  },
  {
   "cell_type": "markdown",
   "id": "c40b94b1-4e39-44b0-b6bc-4b9fd1ad1ea6",
   "metadata": {},
   "source": [
    "#### comments on univariate and bivarate analysis are given along with the analysis above"
   ]
  },
  {
   "cell_type": "code",
   "execution_count": null,
   "id": "545305b8-b1bc-45fb-b0c9-3084deb21ea2",
   "metadata": {},
   "outputs": [],
   "source": []
  }
 ],
 "metadata": {
  "kernelspec": {
   "display_name": "Python 3 (ipykernel)",
   "language": "python",
   "name": "python3"
  },
  "language_info": {
   "codemirror_mode": {
    "name": "ipython",
    "version": 3
   },
   "file_extension": ".py",
   "mimetype": "text/x-python",
   "name": "python",
   "nbconvert_exporter": "python",
   "pygments_lexer": "ipython3",
   "version": "3.9.12"
  }
 },
 "nbformat": 4,
 "nbformat_minor": 5
}
